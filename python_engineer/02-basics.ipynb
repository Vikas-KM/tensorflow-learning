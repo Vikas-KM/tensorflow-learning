{
 "metadata": {
  "language_info": {
   "codemirror_mode": {
    "name": "ipython",
    "version": 3
   },
   "file_extension": ".py",
   "mimetype": "text/x-python",
   "name": "python",
   "nbconvert_exporter": "python",
   "pygments_lexer": "ipython3",
   "version": "3.8.0-final"
  },
  "orig_nbformat": 2,
  "kernelspec": {
   "name": "python3",
   "display_name": "Python 3.8.0 64-bit ('tf_cpu': conda)",
   "metadata": {
    "interpreter": {
     "hash": "e3df8f9cda1999b4616aa55605e62c9e820152ebb3fdccf5d364c3467ca0790e"
    }
   }
  }
 },
 "nbformat": 4,
 "nbformat_minor": 2,
 "cells": [
  {
   "source": [
    "# Tensorflow Basics"
   ],
   "cell_type": "markdown",
   "metadata": {}
  },
  {
   "cell_type": "code",
   "execution_count": 1,
   "metadata": {},
   "outputs": [],
   "source": [
    "import tensorflow as tf"
   ]
  },
  {
   "cell_type": "code",
   "execution_count": 2,
   "metadata": {},
   "outputs": [
    {
     "output_type": "execute_result",
     "data": {
      "text/plain": [
       "'2.4.1'"
      ]
     },
     "metadata": {},
     "execution_count": 2
    }
   ],
   "source": [
    "tf.__version__"
   ]
  },
  {
   "cell_type": "code",
   "execution_count": 3,
   "metadata": {},
   "outputs": [
    {
     "output_type": "stream",
     "name": "stdout",
     "text": [
      "tf.Tensor(4, shape=(), dtype=int32)\n"
     ]
    }
   ],
   "source": [
    "x = tf.constant(4)\n",
    "print(x)"
   ]
  },
  {
   "cell_type": "code",
   "execution_count": 4,
   "metadata": {},
   "outputs": [
    {
     "output_type": "stream",
     "name": "stdout",
     "text": [
      "tf.Tensor([[4.]], shape=(1, 1), dtype=float32)\n"
     ]
    }
   ],
   "source": [
    "x = tf.constant(value=4, dtype=tf.float32, shape=(1,1), name='x')\n",
    "print(x)"
   ]
  },
  {
   "cell_type": "code",
   "execution_count": 5,
   "metadata": {},
   "outputs": [
    {
     "output_type": "stream",
     "name": "stdout",
     "text": [
      "tf.Tensor([1 2 3 4], shape=(4,), dtype=int32)\n"
     ]
    }
   ],
   "source": [
    "# Rank 1 tensor\n",
    "x = tf.constant([1,2,3,4])\n",
    "print(x)"
   ]
  },
  {
   "cell_type": "code",
   "execution_count": 6,
   "metadata": {},
   "outputs": [
    {
     "output_type": "stream",
     "name": "stdout",
     "text": [
      "tf.Tensor(\n[[1 2 3]\n [4 5 6]], shape=(2, 3), dtype=int32)\n"
     ]
    }
   ],
   "source": [
    "# rank 2 tensor\n",
    "x = tf.constant([[1,2,3],[4,5,6]])\n",
    "print(x)"
   ]
  },
  {
   "cell_type": "code",
   "execution_count": 8,
   "metadata": {},
   "outputs": [
    {
     "output_type": "stream",
     "name": "stdout",
     "text": [
      "tf.Tensor(\n[[[1 2]\n  [3 4]]\n\n [[5 6]\n  [7 8]]], shape=(2, 2, 2), dtype=int32)\n"
     ]
    }
   ],
   "source": [
    "# rank 3 tensor\n",
    "x = tf.constant([[[1,2],[3,4]],[[5,6],[7,8]]])\n",
    "print(x)"
   ]
  },
  {
   "cell_type": "code",
   "execution_count": 11,
   "metadata": {},
   "outputs": [
    {
     "output_type": "stream",
     "name": "stdout",
     "text": [
      "tf.Tensor(\n[[1. 1. 1.]\n [1. 1. 1.]\n [1. 1. 1.]], shape=(3, 3), dtype=float32)\n"
     ]
    }
   ],
   "source": [
    "x = tf.ones((3,3))\n",
    "print(x)"
   ]
  },
  {
   "cell_type": "code",
   "execution_count": 12,
   "metadata": {},
   "outputs": [
    {
     "output_type": "stream",
     "name": "stdout",
     "text": [
      "tf.Tensor(\n[[1 1 1]\n [1 1 1]\n [1 1 1]], shape=(3, 3), dtype=int32)\n"
     ]
    }
   ],
   "source": [
    "x = tf.ones((3,3), dtype=tf.int32)\n",
    "print(x)"
   ]
  },
  {
   "cell_type": "code",
   "execution_count": 13,
   "metadata": {},
   "outputs": [
    {
     "output_type": "stream",
     "name": "stdout",
     "text": [
      "tf.Tensor(\n[[0. 0. 0.]\n [0. 0. 0.]\n [0. 0. 0.]], shape=(3, 3), dtype=float32)\n"
     ]
    }
   ],
   "source": [
    "x = tf.zeros((3,3))\n",
    "print(x)"
   ]
  },
  {
   "cell_type": "code",
   "execution_count": 14,
   "metadata": {},
   "outputs": [
    {
     "output_type": "stream",
     "name": "stdout",
     "text": [
      "tf.Tensor(\n[[1. 0. 0.]\n [0. 1. 0.]\n [0. 0. 1.]], shape=(3, 3), dtype=float32)\n"
     ]
    }
   ],
   "source": [
    "x = tf.eye(3)\n",
    "print(x)"
   ]
  },
  {
   "cell_type": "code",
   "execution_count": 15,
   "metadata": {},
   "outputs": [
    {
     "output_type": "stream",
     "name": "stdout",
     "text": [
      "tf.Tensor(\n[[0.16749012 0.10866714 0.44833636]\n [0.2433765  0.71042657 0.9133725 ]\n [0.5968534  0.26653624 0.6918858 ]], shape=(3, 3), dtype=float32)\n"
     ]
    }
   ],
   "source": [
    "# random from the uniform distribution\n",
    "x = tf.random.uniform((3,3))\n",
    "print(x)"
   ]
  },
  {
   "cell_type": "code",
   "execution_count": 16,
   "metadata": {},
   "outputs": [
    {
     "output_type": "stream",
     "name": "stdout",
     "text": [
      "tf.Tensor(\n[[-0.90637803 -0.4562799   1.4442176 ]\n [-1.0233043  -0.7963415  -0.15551387]\n [-0.3523402  -0.2969026   1.0918733 ]], shape=(3, 3), dtype=float32)\n"
     ]
    }
   ],
   "source": [
    "# random values drawn from normal distribution\n",
    "x = tf.random.normal((3,3))\n",
    "print(x)"
   ]
  },
  {
   "cell_type": "code",
   "execution_count": 17,
   "metadata": {},
   "outputs": [
    {
     "output_type": "stream",
     "name": "stdout",
     "text": [
      "tf.Tensor([0 1 2 3 4 5 6 7 8 9], shape=(10,), dtype=int32)\n"
     ]
    }
   ],
   "source": [
    "x = tf.range(10)\n",
    "print(x)"
   ]
  },
  {
   "cell_type": "code",
   "execution_count": 18,
   "metadata": {},
   "outputs": [
    {
     "output_type": "stream",
     "name": "stdout",
     "text": [
      "tf.Tensor([0. 1. 2. 3. 4. 5. 6. 7. 8. 9.], shape=(10,), dtype=float32)\n"
     ]
    }
   ],
   "source": [
    "# above if we look, x is int32, lets cast to float32\n",
    "x = tf.cast(x, dtype=tf.float32)\n",
    "print(x)"
   ]
  },
  {
   "cell_type": "code",
   "execution_count": 23,
   "metadata": {},
   "outputs": [
    {
     "output_type": "stream",
     "name": "stdout",
     "text": [
      "tf.Tensor([5 7 9], shape=(3,), dtype=int32)\ntf.Tensor([5 7 9], shape=(3,), dtype=int32)\n"
     ]
    }
   ],
   "source": [
    "# Operations are all elementwise\n",
    "x = tf.constant([1,2,3])\n",
    "y = tf.constant([4,5,6])\n",
    "z1 = tf.add(x,y)\n",
    "z2 = x + y\n",
    "print(z1)\n",
    "print(z2)"
   ]
  },
  {
   "cell_type": "code",
   "execution_count": 24,
   "metadata": {},
   "outputs": [
    {
     "output_type": "stream",
     "name": "stdout",
     "text": [
      "tf.Tensor([-3 -3 -3], shape=(3,), dtype=int32)\ntf.Tensor([-3 -3 -3], shape=(3,), dtype=int32)\n"
     ]
    }
   ],
   "source": [
    "z1 = tf.subtract(x,y)\n",
    "z2 = x - y\n",
    "print(z1)\n",
    "print(z2)"
   ]
  },
  {
   "cell_type": "code",
   "execution_count": 25,
   "metadata": {},
   "outputs": [
    {
     "output_type": "stream",
     "name": "stdout",
     "text": [
      "tf.Tensor([ 4 10 18], shape=(3,), dtype=int32)\ntf.Tensor([ 4 10 18], shape=(3,), dtype=int32)\n"
     ]
    }
   ],
   "source": [
    "z1 = tf.multiply(x,y)\n",
    "z2 = x * y\n",
    "print(z1)\n",
    "print(z2)"
   ]
  },
  {
   "cell_type": "code",
   "execution_count": 26,
   "metadata": {},
   "outputs": [
    {
     "output_type": "stream",
     "name": "stdout",
     "text": [
      "tf.Tensor([0.25 0.4  0.5 ], shape=(3,), dtype=float64)\ntf.Tensor([0.25 0.4  0.5 ], shape=(3,), dtype=float64)\n"
     ]
    }
   ],
   "source": [
    "z1 = tf.divide(x,y)\n",
    "z2 = x / y\n",
    "print(z1)\n",
    "print(z2)"
   ]
  },
  {
   "cell_type": "code",
   "execution_count": 33,
   "metadata": {},
   "outputs": [
    {
     "output_type": "stream",
     "name": "stdout",
     "text": [
      "tf.Tensor(32, shape=(), dtype=int32)\n"
     ]
    }
   ],
   "source": [
    "z = tf.tensordot(x,y, axes=1)\n",
    "print(z)"
   ]
  },
  {
   "cell_type": "code",
   "execution_count": 31,
   "metadata": {},
   "outputs": [
    {
     "output_type": "stream",
     "name": "stdout",
     "text": [
      "tf.Tensor(\n[[ 4  5  6]\n [ 8 10 12]\n [12 15 18]], shape=(3, 3), dtype=int32)\n"
     ]
    }
   ],
   "source": [
    "# this is outer product\n",
    "z = tf.tensordot(x,y, axes=0)\n",
    "print(z)"
   ]
  },
  {
   "cell_type": "code",
   "execution_count": 35,
   "metadata": {},
   "outputs": [
    {
     "output_type": "stream",
     "name": "stdout",
     "text": [
      "tf.Tensor(\n[[-2.0833144 -0.5011353]\n [-1.334116   1.2567514]], shape=(2, 2), dtype=float32)\ntf.Tensor(\n[[-2.0833144 -0.5011353]\n [-1.334116   1.2567514]], shape=(2, 2), dtype=float32)\n"
     ]
    }
   ],
   "source": [
    "x = tf.random.normal((2,2))\n",
    "y = tf.random.normal((2,2))\n",
    "\n",
    "# Matrix multiplication\n",
    "z1 = tf.matmul(x,y)\n",
    "z2 = x @ y\n",
    "print(z1)\n",
    "print(z2)"
   ]
  },
  {
   "cell_type": "code",
   "execution_count": 36,
   "metadata": {},
   "outputs": [
    {
     "output_type": "stream",
     "name": "stdout",
     "text": [
      "tf.Tensor([1 2 3 4], shape=(4,), dtype=int32)\n"
     ]
    }
   ],
   "source": [
    "# Slicing and Indexing\n",
    "x = tf.constant([[1,2,3,4],[5,6,7,8]])\n",
    "print(x[0])"
   ]
  },
  {
   "cell_type": "code",
   "execution_count": 38,
   "metadata": {},
   "outputs": [
    {
     "output_type": "stream",
     "name": "stdout",
     "text": [
      "tf.Tensor([2 3], shape=(2,), dtype=int32)\n"
     ]
    }
   ],
   "source": [
    "print(x[0,1:3])"
   ]
  },
  {
   "cell_type": "code",
   "execution_count": 44,
   "metadata": {},
   "outputs": [
    {
     "output_type": "stream",
     "name": "stdout",
     "text": [
      "tf.Tensor(\n[[-0.7167329  -0.26834664 -2.310255  ]\n [-1.3482093  -1.7730573  -1.2554873 ]], shape=(2, 3), dtype=float32)\n"
     ]
    }
   ],
   "source": [
    "# reshaping\n",
    "x = tf.random.normal((2,3))\n",
    "print(x)"
   ]
  },
  {
   "cell_type": "code",
   "execution_count": 45,
   "metadata": {},
   "outputs": [
    {
     "output_type": "stream",
     "name": "stdout",
     "text": [
      "tf.Tensor(\n[[-0.7167329  -0.26834664]\n [-2.310255   -1.3482093 ]\n [-1.7730573  -1.2554873 ]], shape=(3, 2), dtype=float32)\n"
     ]
    }
   ],
   "source": [
    "x = tf.reshape(x, (3,2))\n",
    "print(x)"
   ]
  },
  {
   "cell_type": "code",
   "execution_count": 46,
   "metadata": {},
   "outputs": [
    {
     "output_type": "stream",
     "name": "stdout",
     "text": [
      "tf.Tensor(\n[[-0.7167329  -0.26834664 -2.310255  ]\n [-1.3482093  -1.7730573  -1.2554873 ]], shape=(2, 3), dtype=float32)\n"
     ]
    }
   ],
   "source": [
    "# -1 determines what shape it has to take\n",
    "x = tf.reshape(x, (-1,3))\n",
    "print(x)"
   ]
  },
  {
   "cell_type": "code",
   "execution_count": 47,
   "metadata": {},
   "outputs": [
    {
     "output_type": "stream",
     "name": "stdout",
     "text": [
      "tf.Tensor(\n[[-0.7167329  -0.26834664 -2.310255  ]\n [-1.3482093  -1.7730573  -1.2554873 ]], shape=(2, 3), dtype=float32)\n[[-0.7167329  -0.26834664 -2.310255  ]\n [-1.3482093  -1.7730573  -1.2554873 ]]\n"
     ]
    }
   ],
   "source": [
    "# tensor to numpy\n",
    "print(x)\n",
    "x = x.numpy()\n",
    "print(x)\n",
    "print(type(x))"
   ]
  },
  {
   "cell_type": "code",
   "execution_count": 48,
   "metadata": {},
   "outputs": [
    {
     "output_type": "stream",
     "name": "stdout",
     "text": [
      "[[-0.7167329  -0.26834664 -2.310255  ]\n [-1.3482093  -1.7730573  -1.2554873 ]]\n<class 'numpy.ndarray'>\ntf.Tensor(\n[[-0.7167329  -0.26834664 -2.310255  ]\n [-1.3482093  -1.7730573  -1.2554873 ]], shape=(2, 3), dtype=float32)\n<class 'tensorflow.python.framework.ops.EagerTensor'>\n"
     ]
    }
   ],
   "source": [
    "print(x)\n",
    "print(type(x))\n",
    "x = tf.convert_to_tensor(x)\n",
    "print(x)\n",
    "print(type(x))"
   ]
  },
  {
   "cell_type": "code",
   "execution_count": 49,
   "metadata": {},
   "outputs": [
    {
     "output_type": "stream",
     "name": "stdout",
     "text": [
      "tf.Tensor(b'Vikas', shape=(), dtype=string)\n"
     ]
    }
   ],
   "source": [
    "x = tf.constant('Vikas')\n",
    "print(x)"
   ]
  },
  {
   "cell_type": "code",
   "execution_count": 50,
   "metadata": {},
   "outputs": [
    {
     "output_type": "stream",
     "name": "stdout",
     "text": [
      "<tf.Variable 'Variable:0' shape=() dtype=int32, numpy=4>\n"
     ]
    }
   ],
   "source": [
    "# TensorFlow Variable\n",
    "x = tf.Variable(4)\n",
    "print(x)"
   ]
  },
  {
   "cell_type": "code",
   "execution_count": 51,
   "metadata": {},
   "outputs": [
    {
     "output_type": "stream",
     "name": "stdout",
     "text": [
      "<tf.Variable 'Variable:0' shape=(3,) dtype=int32, numpy=array([1, 2, 3])>\n"
     ]
    }
   ],
   "source": [
    "x = tf.Variable([1,2,3])\n",
    "print(x)"
   ]
  },
  {
   "cell_type": "code",
   "execution_count": null,
   "metadata": {},
   "outputs": [],
   "source": []
  }
 ]
}