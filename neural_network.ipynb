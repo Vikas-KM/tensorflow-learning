{
  "nbformat": 4,
  "nbformat_minor": 0,
  "metadata": {
    "colab": {
      "name": "neural-network.ipynb",
      "provenance": [],
      "authorship_tag": "ABX9TyO8v5WjoVSmYHJBTTR3lMdL",
      "include_colab_link": true
    },
    "kernelspec": {
      "name": "python3",
      "display_name": "Python 3"
    }
  },
  "cells": [
    {
      "cell_type": "markdown",
      "metadata": {
        "id": "view-in-github",
        "colab_type": "text"
      },
      "source": [
        "<a href=\"https://colab.research.google.com/github/Vikas-KM/tensorflow-learning/blob/master/neural_network.ipynb\" target=\"_parent\"><img src=\"https://colab.research.google.com/assets/colab-badge.svg\" alt=\"Open In Colab\"/></a>"
      ]
    },
    {
      "cell_type": "code",
      "metadata": {
        "id": "en73kSwkDlWC"
      },
      "source": [
        "import tensorflow as tf\r\n",
        "import os\r\n",
        "from tensorflow import keras\r\n",
        "from tensorflow.keras import layers\r\n",
        "from tensorflow.keras.datasets import mnist\r\n",
        "\r\n",
        "os.environ['TF_CPP_MIN_LOG_LEVEL'] = '2'"
      ],
      "execution_count": 2,
      "outputs": []
    },
    {
      "cell_type": "code",
      "metadata": {
        "colab": {
          "base_uri": "https://localhost:8080/"
        },
        "id": "IFAlL9OlDrKF",
        "outputId": "c537e996-2325-4140-f3af-4c153b630b3b"
      },
      "source": [
        "(X_train, y_train), (X_test, y_test) = mnist.load_data()"
      ],
      "execution_count": 4,
      "outputs": [
        {
          "output_type": "stream",
          "text": [
            "Downloading data from https://storage.googleapis.com/tensorflow/tf-keras-datasets/mnist.npz\n",
            "11493376/11490434 [==============================] - 0s 0us/step\n"
          ],
          "name": "stdout"
        }
      ]
    },
    {
      "cell_type": "code",
      "metadata": {
        "colab": {
          "base_uri": "https://localhost:8080/"
        },
        "id": "09R6puzEEHm7",
        "outputId": "5c9e7ed2-3f23-44ed-d270-ff156ce11543"
      },
      "source": [
        "print(X_train.shape)"
      ],
      "execution_count": 5,
      "outputs": [
        {
          "output_type": "stream",
          "text": [
            "(60000, 28, 28)\n"
          ],
          "name": "stdout"
        }
      ]
    },
    {
      "cell_type": "code",
      "metadata": {
        "colab": {
          "base_uri": "https://localhost:8080/"
        },
        "id": "6-S9NKUcEPMp",
        "outputId": "10d26468-f279-4adf-a67b-45b149c0a73a"
      },
      "source": [
        "print(y_train)"
      ],
      "execution_count": 6,
      "outputs": [
        {
          "output_type": "stream",
          "text": [
            "[5 0 4 ... 5 6 8]\n"
          ],
          "name": "stdout"
        }
      ]
    },
    {
      "cell_type": "code",
      "metadata": {
        "id": "YqU-lJBkET2I"
      },
      "source": [
        "X_train = X_train.reshape(-1, 784).astype('float32')/255.0\r\n",
        "X_test = X_test.reshape(-1, 784).astype('float32')/255.0"
      ],
      "execution_count": 7,
      "outputs": []
    },
    {
      "cell_type": "code",
      "metadata": {
        "colab": {
          "base_uri": "https://localhost:8080/"
        },
        "id": "M-t_YPBUFEdf",
        "outputId": "8e596438-74dd-45e0-fae3-a3ed90fc932e"
      },
      "source": [
        "#Sequential_API\r\n",
        "model = keras.Sequential(\r\n",
        "    [\r\n",
        "     keras.Input(shape=(28*28)),\r\n",
        "     layers.Dense(512, activation='relu', name='first_layer'),\r\n",
        "     layers.Dense(256, activation='relu'),\r\n",
        "     layers.Dense(10),\r\n",
        "    ]\r\n",
        ")\r\n",
        "\r\n",
        "# model.layers[-1] is last layer\r\n",
        "# model.layers[-2] is the last but with 256\r\n",
        "model = keras.Model(inputs = model.inputs,\r\n",
        "                    # outputs = [model.layers[-2].output],\r\n",
        "                    # outputs = [model.get_layer('first_layer').output],\r\n",
        "                    outputs = [layer.output for layer in model.layers])\r\n",
        "\r\n",
        "# feature = model.predict(X_train)\r\n",
        "features = model.predict(X_train)\r\n",
        "for feature in features:\r\n",
        "  print(feature.shape)"
      ],
      "execution_count": 27,
      "outputs": [
        {
          "output_type": "stream",
          "text": [
            "(60000, 512)\n",
            "(60000, 256)\n",
            "(60000, 10)\n"
          ],
          "name": "stdout"
        }
      ]
    },
    {
      "cell_type": "code",
      "metadata": {
        "id": "2gQm0Zk2IQP_"
      },
      "source": [
        "# model = keras.Sequential()\r\n",
        "# model.add(layers.Dense(512, activation='relu'))\r\n",
        "# model.summary()\r\n",
        "# model.add(layers.Dense(256, activation='relu'))\r\n",
        "# model.add(layers.Dense(10))\r\n"
      ],
      "execution_count": null,
      "outputs": []
    },
    {
      "cell_type": "code",
      "metadata": {
        "colab": {
          "base_uri": "https://localhost:8080/"
        },
        "id": "R5WlX8kUIygv",
        "outputId": "e424ce11-2a77-4cdc-f129-d8dac593538a"
      },
      "source": [
        "# Functional API, bit more flexible\r\n",
        "inputs = keras.Input(shape=784)\r\n",
        "x = layers.Dense(512, activation='relu', name='first_layer')(inputs)\r\n",
        "x = layers.Dense(256, activation='relu', name='second_layer')(x)\r\n",
        "outputs = layers.Dense(10, activation='softmax')(x)\r\n",
        "\r\n",
        "model.compile(\r\n",
        "    # from_logits = False because output activation mentioned above\r\n",
        "    loss = keras.losses.SparseCategoricalCrossentropy(from_logits=False),\r\n",
        "    optimizer = keras.optimizers.Adam(learning_rate=0.001),\r\n",
        "    metrics=['accuracy'],   \r\n",
        ")\r\n",
        "\r\n",
        "model = keras.Model(inputs = inputs, outputs=outputs)\r\n",
        "print(model.summary())"
      ],
      "execution_count": 22,
      "outputs": [
        {
          "output_type": "stream",
          "text": [
            "Model: \"model_2\"\n",
            "_________________________________________________________________\n",
            "Layer (type)                 Output Shape              Param #   \n",
            "=================================================================\n",
            "input_5 (InputLayer)         [(None, 784)]             0         \n",
            "_________________________________________________________________\n",
            "first_layer (Dense)          (None, 512)               401920    \n",
            "_________________________________________________________________\n",
            "second_layer (Dense)         (None, 256)               131328    \n",
            "_________________________________________________________________\n",
            "dense_15 (Dense)             (None, 10)                2570      \n",
            "=================================================================\n",
            "Total params: 535,818\n",
            "Trainable params: 535,818\n",
            "Non-trainable params: 0\n",
            "_________________________________________________________________\n",
            "None\n"
          ],
          "name": "stdout"
        }
      ]
    },
    {
      "cell_type": "code",
      "metadata": {
        "colab": {
          "base_uri": "https://localhost:8080/"
        },
        "id": "ZUxA2yFxHRvP",
        "outputId": "7b75c43a-5bb7-4c9f-e7c3-8e041f2506ef"
      },
      "source": [
        "# used more as a debugging tool\r\n",
        "print(model.summary())"
      ],
      "execution_count": 15,
      "outputs": [
        {
          "output_type": "stream",
          "text": [
            "Model: \"sequential_1\"\n",
            "_________________________________________________________________\n",
            "Layer (type)                 Output Shape              Param #   \n",
            "=================================================================\n",
            "dense_3 (Dense)              (None, 512)               401920    \n",
            "_________________________________________________________________\n",
            "dense_4 (Dense)              (None, 256)               131328    \n",
            "_________________________________________________________________\n",
            "dense_5 (Dense)              (None, 10)                2570      \n",
            "=================================================================\n",
            "Total params: 535,818\n",
            "Trainable params: 535,818\n",
            "Non-trainable params: 0\n",
            "_________________________________________________________________\n",
            "None\n"
          ],
          "name": "stdout"
        }
      ]
    },
    {
      "cell_type": "code",
      "metadata": {
        "id": "vfatdC-qF181"
      },
      "source": [
        "model.compile(\r\n",
        "    loss = keras.losses.SparseCategoricalCrossentropy(from_logits=True),\r\n",
        "    optimizer = keras.optimizers.Adam(learning_rate=0.001),\r\n",
        "    metrics=['accuracy'],\r\n",
        ")"
      ],
      "execution_count": 18,
      "outputs": []
    },
    {
      "cell_type": "code",
      "metadata": {
        "colab": {
          "base_uri": "https://localhost:8080/"
        },
        "id": "KDOmM0FnGGQ3",
        "outputId": "edfcadd6-7a9c-4d27-e80d-cc158cdb0ff7"
      },
      "source": [
        "model.fit(X_train, y_train, batch_size=32, epochs=5, verbose=2)"
      ],
      "execution_count": 19,
      "outputs": [
        {
          "output_type": "stream",
          "text": [
            "Epoch 1/5\n",
            "1875/1875 - 8s - loss: 0.1869 - accuracy: 0.9437\n",
            "Epoch 2/5\n",
            "1875/1875 - 8s - loss: 0.0798 - accuracy: 0.9754\n",
            "Epoch 3/5\n",
            "1875/1875 - 8s - loss: 0.0537 - accuracy: 0.9827\n",
            "Epoch 4/5\n",
            "1875/1875 - 8s - loss: 0.0408 - accuracy: 0.9869\n",
            "Epoch 5/5\n",
            "1875/1875 - 8s - loss: 0.0333 - accuracy: 0.9894\n"
          ],
          "name": "stdout"
        },
        {
          "output_type": "execute_result",
          "data": {
            "text/plain": [
              "<tensorflow.python.keras.callbacks.History at 0x7f5fa35b9208>"
            ]
          },
          "metadata": {
            "tags": []
          },
          "execution_count": 19
        }
      ]
    },
    {
      "cell_type": "code",
      "metadata": {
        "colab": {
          "base_uri": "https://localhost:8080/"
        },
        "id": "9smCp79DGvqP",
        "outputId": "edece51b-88dd-481d-ecd0-1fd224c2274a"
      },
      "source": [
        "model.evaluate(X_test, y_test, batch_size=32, verbose=2)"
      ],
      "execution_count": 20,
      "outputs": [
        {
          "output_type": "stream",
          "text": [
            "313/313 - 1s - loss: 0.0958 - accuracy: 0.9746\n"
          ],
          "name": "stdout"
        },
        {
          "output_type": "execute_result",
          "data": {
            "text/plain": [
              "[0.09576885402202606, 0.9746000170707703]"
            ]
          },
          "metadata": {
            "tags": []
          },
          "execution_count": 20
        }
      ]
    },
    {
      "cell_type": "code",
      "metadata": {
        "id": "Zj37AV60G78-"
      },
      "source": [
        ""
      ],
      "execution_count": null,
      "outputs": []
    }
  ]
}