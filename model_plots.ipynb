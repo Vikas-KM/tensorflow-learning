{
  "nbformat": 4,
  "nbformat_minor": 0,
  "metadata": {
    "colab": {
      "name": "model_plots.ipynb",
      "provenance": [],
      "authorship_tag": "ABX9TyNC1pIhvsMwbEG+kt2l1fS9",
      "include_colab_link": true
    },
    "kernelspec": {
      "name": "python3",
      "display_name": "Python 3"
    },
    "language_info": {
      "name": "python"
    }
  },
  "cells": [
    {
      "cell_type": "markdown",
      "metadata": {
        "id": "view-in-github",
        "colab_type": "text"
      },
      "source": [
        "<a href=\"https://colab.research.google.com/github/Vikas-KM/tensorflow-learning/blob/master/model_plots.ipynb\" target=\"_parent\"><img src=\"https://colab.research.google.com/assets/colab-badge.svg\" alt=\"Open In Colab\"/></a>"
      ]
    },
    {
      "cell_type": "code",
      "metadata": {
        "id": "x8XL3EA_XChn"
      },
      "source": [
        "import tensorflow as tf\n",
        "from tensorflow import keras"
      ],
      "execution_count": 1,
      "outputs": []
    },
    {
      "cell_type": "code",
      "metadata": {
        "id": "_0aUTmVmXG0T"
      },
      "source": [
        "inputs = keras.Input(shape=(8,), name='input_layer')"
      ],
      "execution_count": 2,
      "outputs": []
    },
    {
      "cell_type": "code",
      "metadata": {
        "id": "rszuPXFHXRaj"
      },
      "source": [
        "x = keras.layers.Dense(12,activation='relu')(inputs)"
      ],
      "execution_count": 3,
      "outputs": []
    },
    {
      "cell_type": "code",
      "metadata": {
        "id": "Q_NVjqnIXeqK"
      },
      "source": [
        "x = keras.layers.Dense(8, activation='relu')(x)"
      ],
      "execution_count": 4,
      "outputs": []
    },
    {
      "cell_type": "code",
      "metadata": {
        "id": "xBtIa71rXjDa"
      },
      "source": [
        "outputs = keras.layers.Dense(5)(x)"
      ],
      "execution_count": 5,
      "outputs": []
    },
    {
      "cell_type": "code",
      "metadata": {
        "id": "Pl59cb4LXoC8"
      },
      "source": [
        "model = keras.Model(inputs=inputs, outputs=outputs, name='model_layers')"
      ],
      "execution_count": 6,
      "outputs": []
    },
    {
      "cell_type": "code",
      "metadata": {
        "colab": {
          "base_uri": "https://localhost:8080/",
          "height": 422
        },
        "id": "Pp3RZyw1Xy10",
        "outputId": "4a145b38-01d0-41bc-a6a2-12a804aa074c"
      },
      "source": [
        "keras.utils.plot_model(model, 'model_layers.png', show_shapes=True)"
      ],
      "execution_count": 7,
      "outputs": [
        {
          "output_type": "execute_result",
          "data": {
            "image/png": "[encoded data removed]",
            "text/plain": [
              "<IPython.core.display.Image object>"
            ]
          },
          "metadata": {
            "tags": []
          },
          "execution_count": 7
        }
      ]
    },
    {
      "cell_type": "code",
      "metadata": {
        "id": "YdSWcwBuX7Kd"
      },
      "source": [
        "class MyModel(tf.keras.Model):\n",
        "  def __init__(self, use_dp=False, num_output=1):\n",
        "    super(MyModel, self).__init__()\n",
        "    self.use_dp = use_dp\n",
        "    self.dense1 = tf.keras.layers.Dense(12, activation=tf.nn.relu)\n",
        "    self.dense2 = tf.keras.layers.Dense(24, activation=tf.nn.relu)\n",
        "    self.dense3 = tf.keras.layers.Dense(4, activation='relu')\n",
        "    self.dense4 = tf.keras.layers.Dense(10, activation='sigmoid')\n",
        "\n",
        "    if self.use_dp:\n",
        "      use_dp = tf.keras.layers.Dropout(0.3)\n",
        "\n",
        "\n",
        "  def call(self, x):\n",
        "    x = self.dense1(x)\n",
        "    x = self.dense2(x)\n",
        "    if self.use_dp:\n",
        "      x = self.dp(x)\n",
        "    x = self.dense3(x)\n",
        "    if self.use_dp:\n",
        "      x = self.dp(x)\n",
        "    return self.dense4(x)"
      ],
      "execution_count": 8,
      "outputs": []
    },
    {
      "cell_type": "code",
      "metadata": {
        "id": "rKIbNEYZZ_tF"
      },
      "source": [
        "model = MyModel()"
      ],
      "execution_count": 9,
      "outputs": []
    },
    {
      "cell_type": "code",
      "metadata": {
        "id": "iMwYEyA8aCJW"
      },
      "source": [
        "model.compile(\n",
        "    loss=tf.keras.losses.categorical_crossentropy,\n",
        "    optimizer=tf.keras.optimizers.Adam(learning_rate=0.001),\n",
        "    metrics=['accuracy']\n",
        ")"
      ],
      "execution_count": 10,
      "outputs": []
    },
    {
      "cell_type": "code",
      "metadata": {
        "id": "mB80C_UGaTql"
      },
      "source": [
        "class MyLayer(tf.keras.layers.Layer):\n",
        "  def __init__(self, output_dim, **kwargs):\n",
        "    self.output_dim = output_dim\n",
        "    super(MyLayer, self).__init__(**kwargs)\n",
        "\n",
        "  def build(self, input_shape):\n",
        "    self.W = self.add_weight(name='kernel', \n",
        "                             shape=(input_shape[1], self.output_dim),\n",
        "                             initializer='uniform',\n",
        "                             trainable=True)\n",
        "    self.built = True\n",
        "\n",
        "  def call(self,x):\n",
        "    return tf.matmul(x, self.W)\n",
        "\n",
        "  def compute_output_shape(self, input_shape):\n",
        "    return(input_shape[0], self.output_dim)"
      ],
      "execution_count": 11,
      "outputs": []
    },
    {
      "cell_type": "code",
      "metadata": {
        "colab": {
          "base_uri": "https://localhost:8080/"
        },
        "id": "qYewBPZ_cdHc",
        "outputId": "786cbc54-7e3d-4937-8f32-f84efe1e1857"
      },
      "source": [
        "MyLayer(10)"
      ],
      "execution_count": 12,
      "outputs": [
        {
          "output_type": "execute_result",
          "data": {
            "text/plain": [
              "<__main__.MyLayer at 0x7fb9fb0ce050>"
            ]
          },
          "metadata": {
            "tags": []
          },
          "execution_count": 12
        }
      ]
    },
    {
      "cell_type": "code",
      "metadata": {
        "id": "1XJidGCncgRc"
      },
      "source": [
        ""
      ],
      "execution_count": null,
      "outputs": []
    }
  ]
}