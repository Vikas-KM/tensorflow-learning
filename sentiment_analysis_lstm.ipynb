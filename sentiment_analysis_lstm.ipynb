{
  "nbformat": 4,
  "nbformat_minor": 0,
  "metadata": {
    "colab": {
      "name": "sentiment_analysis_lstm.ipynb",
      "provenance": [],
      "mount_file_id": "16LclJjOjMe3cnYR8pgMwEVubyj8blp-n",
      "authorship_tag": "ABX9TyP++PIJ8oB8iOub205GEEsm",
      "include_colab_link": true
    },
    "kernelspec": {
      "name": "python3",
      "display_name": "Python 3"
    },
    "accelerator": "GPU"
  },
  "cells": [
    {
      "cell_type": "markdown",
      "metadata": {
        "id": "view-in-github",
        "colab_type": "text"
      },
      "source": [
        "<a href=\"https://colab.research.google.com/github/Vikas-KM/tensorflow-learning/blob/master/sentiment_analysis_lstm.ipynb\" target=\"_parent\"><img src=\"https://colab.research.google.com/assets/colab-badge.svg\" alt=\"Open In Colab\"/></a>"
      ]
    },
    {
      "cell_type": "code",
      "metadata": {
        "id": "sEYaxQQbAk8Z"
      },
      "source": [
        "import tensorflow as tf\r\n",
        "import numpy as np\r\n",
        "import pandas as pd\r\n",
        "from tensorflow import keras\r\n",
        "from tensorflow.keras import layers, Model\r\n",
        "from tensorflow.keras.layers import Dense, LSTM, Flatten, Embedding\r\n",
        "from tensorflow.keras.preprocessing.text import Tokenizer\r\n",
        "from tensorflow.keras.preprocessing.sequence import pad_sequences\r\n",
        "from tensorflow.keras.utils import to_categorical\r\n",
        "from tensorflow.keras.models import Sequential\r\n",
        "from tensorflow.keras.initializers import glorot_uniform\r\n",
        "\r\n",
        "import re\r\n",
        "from sklearn import model_selection\r\n",
        "\r\n",
        "from tqdm import tqdm"
      ],
      "execution_count": 1,
      "outputs": []
    },
    {
      "cell_type": "code",
      "metadata": {
        "colab": {
          "base_uri": "https://localhost:8080/"
        },
        "id": "_4XsMYaPDjrT",
        "outputId": "d9ae22f5-d1ec-4f9c-fb8f-1d09c5ec306c"
      },
      "source": [
        "! tar -xvf /content/drive/MyDrive/amazon_review_polarity_csv.tar.gz"
      ],
      "execution_count": 2,
      "outputs": [
        {
          "output_type": "stream",
          "text": [
            "amazon_review_polarity_csv/\n",
            "amazon_review_polarity_csv/test.csv\n",
            "amazon_review_polarity_csv/train.csv\n",
            "amazon_review_polarity_csv/readme.txt\n"
          ],
          "name": "stdout"
        }
      ]
    },
    {
      "cell_type": "code",
      "metadata": {
        "id": "VrpZye9oEU9D"
      },
      "source": [
        "with open('/content/amazon_review_polarity_csv/train.csv') as f:\r\n",
        "  text = f.readlines()"
      ],
      "execution_count": 3,
      "outputs": []
    },
    {
      "cell_type": "code",
      "metadata": {
        "colab": {
          "base_uri": "https://localhost:8080/",
          "height": 598
        },
        "id": "Hj5IMuIJEtAS",
        "outputId": "baf088f6-06c5-4b55-a666-1f2ad9f3fad8"
      },
      "source": [
        "df = pd.read_csv('/content/amazon_review_polarity_csv/train.csv')\r\n",
        "df.head(10)"
      ],
      "execution_count": 4,
      "outputs": [
        {
          "output_type": "execute_result",
          "data": {
            "text/html": [
              "<div>\n",
              "<style scoped>\n",
              "    .dataframe tbody tr th:only-of-type {\n",
              "        vertical-align: middle;\n",
              "    }\n",
              "\n",
              "    .dataframe tbody tr th {\n",
              "        vertical-align: top;\n",
              "    }\n",
              "\n",
              "    .dataframe thead th {\n",
              "        text-align: right;\n",
              "    }\n",
              "</style>\n",
              "<table border=\"1\" class=\"dataframe\">\n",
              "  <thead>\n",
              "    <tr style=\"text-align: right;\">\n",
              "      <th></th>\n",
              "      <th>2</th>\n",
              "      <th>Stuning even for the non-gamer</th>\n",
              "      <th>This sound track was beautiful! It paints the senery in your mind so well I would recomend it even to people who hate vid. game music! I have played the game Chrono Cross but out of all of the games I have ever played it has the best music! It backs away from crude keyboarding and takes a fresher step with grate guitars and soulful orchestras. It would impress anyone who cares to listen! ^_^</th>\n",
              "    </tr>\n",
              "  </thead>\n",
              "  <tbody>\n",
              "    <tr>\n",
              "      <th>0</th>\n",
              "      <td>2</td>\n",
              "      <td>The best soundtrack ever to anything.</td>\n",
              "      <td>I'm reading a lot of reviews saying that this ...</td>\n",
              "    </tr>\n",
              "    <tr>\n",
              "      <th>1</th>\n",
              "      <td>2</td>\n",
              "      <td>Amazing!</td>\n",
              "      <td>This soundtrack is my favorite music of all ti...</td>\n",
              "    </tr>\n",
              "    <tr>\n",
              "      <th>2</th>\n",
              "      <td>2</td>\n",
              "      <td>Excellent Soundtrack</td>\n",
              "      <td>I truly like this soundtrack and I enjoy video...</td>\n",
              "    </tr>\n",
              "    <tr>\n",
              "      <th>3</th>\n",
              "      <td>2</td>\n",
              "      <td>Remember, Pull Your Jaw Off The Floor After He...</td>\n",
              "      <td>If you've played the game, you know how divine...</td>\n",
              "    </tr>\n",
              "    <tr>\n",
              "      <th>4</th>\n",
              "      <td>2</td>\n",
              "      <td>an absolute masterpiece</td>\n",
              "      <td>I am quite sure any of you actually taking the...</td>\n",
              "    </tr>\n",
              "    <tr>\n",
              "      <th>5</th>\n",
              "      <td>1</td>\n",
              "      <td>Buyer beware</td>\n",
              "      <td>This is a self-published book, and if you want...</td>\n",
              "    </tr>\n",
              "    <tr>\n",
              "      <th>6</th>\n",
              "      <td>2</td>\n",
              "      <td>Glorious story</td>\n",
              "      <td>I loved Whisper of the wicked saints. The stor...</td>\n",
              "    </tr>\n",
              "    <tr>\n",
              "      <th>7</th>\n",
              "      <td>2</td>\n",
              "      <td>A FIVE STAR BOOK</td>\n",
              "      <td>I just finished reading Whisper of the Wicked ...</td>\n",
              "    </tr>\n",
              "    <tr>\n",
              "      <th>8</th>\n",
              "      <td>2</td>\n",
              "      <td>Whispers of the Wicked Saints</td>\n",
              "      <td>This was a easy to read book that made me want...</td>\n",
              "    </tr>\n",
              "    <tr>\n",
              "      <th>9</th>\n",
              "      <td>1</td>\n",
              "      <td>The Worst!</td>\n",
              "      <td>A complete waste of time. Typographical errors...</td>\n",
              "    </tr>\n",
              "  </tbody>\n",
              "</table>\n",
              "</div>"
            ],
            "text/plain": [
              "   2  ... This sound track was beautiful! It paints the senery in your mind so well I would recomend it even to people who hate vid. game music! I have played the game Chrono Cross but out of all of the games I have ever played it has the best music! It backs away from crude keyboarding and takes a fresher step with grate guitars and soulful orchestras. It would impress anyone who cares to listen! ^_^\n",
              "0  2  ...  I'm reading a lot of reviews saying that this ...                                                                                                                                                                                                                                                                                                                                                        \n",
              "1  2  ...  This soundtrack is my favorite music of all ti...                                                                                                                                                                                                                                                                                                                                                        \n",
              "2  2  ...  I truly like this soundtrack and I enjoy video...                                                                                                                                                                                                                                                                                                                                                        \n",
              "3  2  ...  If you've played the game, you know how divine...                                                                                                                                                                                                                                                                                                                                                        \n",
              "4  2  ...  I am quite sure any of you actually taking the...                                                                                                                                                                                                                                                                                                                                                        \n",
              "5  1  ...  This is a self-published book, and if you want...                                                                                                                                                                                                                                                                                                                                                        \n",
              "6  2  ...  I loved Whisper of the wicked saints. The stor...                                                                                                                                                                                                                                                                                                                                                        \n",
              "7  2  ...  I just finished reading Whisper of the Wicked ...                                                                                                                                                                                                                                                                                                                                                        \n",
              "8  2  ...  This was a easy to read book that made me want...                                                                                                                                                                                                                                                                                                                                                        \n",
              "9  1  ...  A complete waste of time. Typographical errors...                                                                                                                                                                                                                                                                                                                                                        \n",
              "\n",
              "[10 rows x 3 columns]"
            ]
          },
          "metadata": {
            "tags": []
          },
          "execution_count": 4
        }
      ]
    },
    {
      "cell_type": "code",
      "metadata": {
        "colab": {
          "base_uri": "https://localhost:8080/"
        },
        "id": "HQOiJYU2FgzI",
        "outputId": "cf6653de-daa9-4092-96aa-fcf9c452da23"
      },
      "source": [
        "df.shape"
      ],
      "execution_count": 5,
      "outputs": [
        {
          "output_type": "execute_result",
          "data": {
            "text/plain": [
              "(3599999, 3)"
            ]
          },
          "metadata": {
            "tags": []
          },
          "execution_count": 5
        }
      ]
    },
    {
      "cell_type": "code",
      "metadata": {
        "colab": {
          "base_uri": "https://localhost:8080/"
        },
        "id": "ZM76XGNaF8j7",
        "outputId": "7c3f21a7-4847-4b45-aced-d3b916b2b691"
      },
      "source": [
        "words = []\r\n",
        "labels = []\r\n",
        "\r\n",
        "for i in tqdm(text):\r\n",
        "  i = i.split()\r\n",
        "  labels.append(1) if i[0]=='__label__2' else labels.append(0)\r\n",
        "  words.append(' '.join(i[1:]))"
      ],
      "execution_count": 6,
      "outputs": [
        {
          "output_type": "stream",
          "text": [
            "100%|██████████| 3600000/3600000 [00:22<00:00, 161182.55it/s]\n"
          ],
          "name": "stderr"
        }
      ]
    },
    {
      "cell_type": "code",
      "metadata": {
        "colab": {
          "base_uri": "https://localhost:8080/",
          "height": 355
        },
        "id": "HNyiOS2bQll7",
        "outputId": "953cdeb4-c865-4523-d6ad-1a9839222983"
      },
      "source": [
        "X_train = pd.DataFrame()\r\n",
        "\r\n",
        "X_train['consumer_review'] = words\r\n",
        "X_train['polarity_review'] = labels\r\n",
        "\r\n",
        "X_train.head(10)"
      ],
      "execution_count": 26,
      "outputs": [
        {
          "output_type": "execute_result",
          "data": {
            "text/html": [
              "<div>\n",
              "<style scoped>\n",
              "    .dataframe tbody tr th:only-of-type {\n",
              "        vertical-align: middle;\n",
              "    }\n",
              "\n",
              "    .dataframe tbody tr th {\n",
              "        vertical-align: top;\n",
              "    }\n",
              "\n",
              "    .dataframe thead th {\n",
              "        text-align: right;\n",
              "    }\n",
              "</style>\n",
              "<table border=\"1\" class=\"dataframe\">\n",
              "  <thead>\n",
              "    <tr style=\"text-align: right;\">\n",
              "      <th></th>\n",
              "      <th>consumer_review</th>\n",
              "      <th>polarity_review</th>\n",
              "    </tr>\n",
              "  </thead>\n",
              "  <tbody>\n",
              "    <tr>\n",
              "      <th>0</th>\n",
              "      <td>even for the non-gamer\",\"This sound track was ...</td>\n",
              "      <td>0</td>\n",
              "    </tr>\n",
              "    <tr>\n",
              "      <th>1</th>\n",
              "      <td>best soundtrack ever to anything.\",\"I'm readin...</td>\n",
              "      <td>0</td>\n",
              "    </tr>\n",
              "    <tr>\n",
              "      <th>2</th>\n",
              "      <td>soundtrack is my favorite music of all time, h...</td>\n",
              "      <td>0</td>\n",
              "    </tr>\n",
              "    <tr>\n",
              "      <th>3</th>\n",
              "      <td>Soundtrack\",\"I truly like this soundtrack and ...</td>\n",
              "      <td>0</td>\n",
              "    </tr>\n",
              "    <tr>\n",
              "      <th>4</th>\n",
              "      <td>Pull Your Jaw Off The Floor After Hearing it\",...</td>\n",
              "      <td>0</td>\n",
              "    </tr>\n",
              "    <tr>\n",
              "      <th>5</th>\n",
              "      <td>absolute masterpiece\",\"I am quite sure any of ...</td>\n",
              "      <td>0</td>\n",
              "    </tr>\n",
              "    <tr>\n",
              "      <th>6</th>\n",
              "      <td>beware\",\"This is a self-published book, and if...</td>\n",
              "      <td>0</td>\n",
              "    </tr>\n",
              "    <tr>\n",
              "      <th>7</th>\n",
              "      <td>story\",\"I loved Whisper of the wicked saints. ...</td>\n",
              "      <td>0</td>\n",
              "    </tr>\n",
              "    <tr>\n",
              "      <th>8</th>\n",
              "      <td>FIVE STAR BOOK\",\"I just finished reading Whisp...</td>\n",
              "      <td>0</td>\n",
              "    </tr>\n",
              "    <tr>\n",
              "      <th>9</th>\n",
              "      <td>of the Wicked Saints\",\"This was a easy to read...</td>\n",
              "      <td>0</td>\n",
              "    </tr>\n",
              "  </tbody>\n",
              "</table>\n",
              "</div>"
            ],
            "text/plain": [
              "                                     consumer_review  polarity_review\n",
              "0  even for the non-gamer\",\"This sound track was ...                0\n",
              "1  best soundtrack ever to anything.\",\"I'm readin...                0\n",
              "2  soundtrack is my favorite music of all time, h...                0\n",
              "3  Soundtrack\",\"I truly like this soundtrack and ...                0\n",
              "4  Pull Your Jaw Off The Floor After Hearing it\",...                0\n",
              "5  absolute masterpiece\",\"I am quite sure any of ...                0\n",
              "6  beware\",\"This is a self-published book, and if...                0\n",
              "7  story\",\"I loved Whisper of the wicked saints. ...                0\n",
              "8  FIVE STAR BOOK\",\"I just finished reading Whisp...                0\n",
              "9  of the Wicked Saints\",\"This was a easy to read...                0"
            ]
          },
          "metadata": {
            "tags": []
          },
          "execution_count": 26
        }
      ]
    },
    {
      "cell_type": "markdown",
      "metadata": {
        "id": "iky-3b8ui1qS"
      },
      "source": [
        "#### Here we are taking only 30% of the data, System overload and for faster execution"
      ]
    },
    {
      "cell_type": "code",
      "metadata": {
        "id": "-tS9oUjjS9DY"
      },
      "source": [
        "X_train, X_test, y_train, y_test = model_selection.train_test_split(X_train['consumer_review'], X_train['polarity_review'], test_size=0.85, random_state=42)"
      ],
      "execution_count": 27,
      "outputs": []
    },
    {
      "cell_type": "code",
      "metadata": {
        "id": "I2fHMYSGte84"
      },
      "source": [
        "stop_words = ['i', 'me', 'my', 'myself', 'we', 'our', 'ours', 'ourselves', 'you', \"you're\", \"you've\",\r\n",
        "               \"you'll\", \"you'd\", 'your', 'yours', 'yourself', 'yourselves', 'he', 'him', 'his',\r\n",
        "               'himself', 'she', \"she's\", 'her', 'hers', 'herself', 'it', \"it's\", 'its', 'itself',\r\n",
        "               'they', 'them', 'their', 'theirs', 'themselves', 'what', 'which', 'who', 'whom', 'this',\r\n",
        "               'that', \"that'll\", 'these', 'those', 'am', 'is', 'are', 'was', 'were', 'be', 'been',\r\n",
        "               'being', 'have', 'has', 'had', 'having', 'do', 'does', 'did', 'doing', 'a', 'an',\r\n",
        "               'the', 'and', 'but', 'if', 'or', 'because', 'as', 'until', 'while', 'of', 'at', 'by',\r\n",
        "               'for', 'with', 'about', 'against', 'between', 'into', 'through', 'during', 'before',\r\n",
        "               'after', 'above', 'below', 'to', 'from', 'up', 'down', 'in', 'out', 'on', 'off',\r\n",
        "               'over', 'under', 'again', 'further', 'then', 'once', 'here', 'there', 'when', 'where',\r\n",
        "               'why', 'how', 'all', 'any', 'both', 'each', 'few', 'more', 'most', 'other', 'some',\r\n",
        "               'such', 'only', 'own', 'same', 'so', 'than', 'too', 'very', 's',\r\n",
        "               't', 'can', 'will', 'just', 'don', \"don't\", 'should', \"should've\", 'now', 'd', 'll',\r\n",
        "               'm', 'o', 're', 've', 'y', 'ain', 'aren', \"aren't\", 'couldn', \"couldn't\", 'didn',\r\n",
        "               \"didn't\", 'doesn', \"doesn't\", 'hadn', \"hadn't\", 'hasn', \"hasn't\", 'haven', \"haven't\",\r\n",
        "               'isn', \"isn't\", 'ma', 'mightn', \"mightn't\", 'mustn', \"mustn't\", 'needn', \"needn't\",\r\n",
        "               'shan', \"shan't\", 'shouldn', \"shouldn't\", 'wasn', \"wasn't\", 'weren', \"weren't\", 'won',\r\n",
        "               \"won't\", 'wouldn', \"wouldn't\"]"
      ],
      "execution_count": 28,
      "outputs": []
    },
    {
      "cell_type": "code",
      "metadata": {
        "id": "wCk8MXFrtkgB"
      },
      "source": [
        "def decontracted(phrase):\r\n",
        "    # specific\r\n",
        "    phrase = re.sub(r\"won't\", \"will not\", phrase)\r\n",
        "    phrase = re.sub(r\"can't\", \"can not\", phrase)\r\n",
        "\r\n",
        "    # in the above line both will work\r\n",
        "    # phrase = re.sub(r\"won't\", \"will not\", phrase) and phrase = re.sub(r\"won\\'t\", \"will not\", phrase)\r\n",
        "\r\n",
        "    # general\r\n",
        "    phrase = re.sub(r\"n\\'t\", \" not\", phrase)\r\n",
        "    phrase = re.sub(r\"\\'re\", \" are\", phrase)\r\n",
        "    phrase = re.sub(r\"\\'s\", \" is\", phrase)\r\n",
        "    phrase = re.sub(r\"\\'d\", \" would\", phrase)\r\n",
        "    phrase = re.sub(r\"\\'ll\", \" will\", phrase)\r\n",
        "    phrase = re.sub(r\"\\'t\", \" not\", phrase)\r\n",
        "    phrase = re.sub(r\"\\'ve\", \" have\", phrase)\r\n",
        "    phrase = re.sub(r\"\\'m\", \" am\", phrase)\r\n",
        "    return phrase"
      ],
      "execution_count": 29,
      "outputs": []
    },
    {
      "cell_type": "code",
      "metadata": {
        "id": "qHyAyy50TxVM"
      },
      "source": [
        "def data_clean(in_text):\r\n",
        "  in_text = in_text.lower()\r\n",
        "  in_text = decontracted(in_text)\r\n",
        "  out_text = re.sub('[^a-zA-Z]+',' ', in_text) # remove punctuations\r\n",
        "  out_text = re.sub(r'\\s+[a-zA-Z]\\s+',' ', out_text) # remove single characters\r\n",
        "  out_text = ' '.join(e.lower() for e in out_text.split() if e not in stop_words)  \r\n",
        "  return out_text.strip()"
      ],
      "execution_count": 32,
      "outputs": []
    },
    {
      "cell_type": "code",
      "metadata": {
        "colab": {
          "base_uri": "https://localhost:8080/"
        },
        "id": "p0YbPEzbgibw",
        "outputId": "0620b14d-75d4-4ce5-c804-f3740dc970cf"
      },
      "source": [
        "sentences = []\r\n",
        "for reviews in tqdm(list(X_train)):\r\n",
        "  sentences.append(data_clean(reviews))"
      ],
      "execution_count": 33,
      "outputs": [
        {
          "output_type": "stream",
          "text": [
            "100%|██████████| 540000/540000 [01:23<00:00, 6474.05it/s]\n"
          ],
          "name": "stderr"
        }
      ]
    },
    {
      "cell_type": "code",
      "metadata": {
        "colab": {
          "base_uri": "https://localhost:8080/",
          "height": 202
        },
        "id": "Wg3pqxd4ifzS",
        "outputId": "81c2da51-0b2c-4f44-85a7-05841483a4b7"
      },
      "source": [
        "X = pd.DataFrame()\r\n",
        "X['consumer_reviews'] = sentences\r\n",
        "X['polarity_label'] = list(y_train)\r\n",
        "X.head()"
      ],
      "execution_count": 34,
      "outputs": [
        {
          "output_type": "execute_result",
          "data": {
            "text/html": [
              "<div>\n",
              "<style scoped>\n",
              "    .dataframe tbody tr th:only-of-type {\n",
              "        vertical-align: middle;\n",
              "    }\n",
              "\n",
              "    .dataframe tbody tr th {\n",
              "        vertical-align: top;\n",
              "    }\n",
              "\n",
              "    .dataframe thead th {\n",
              "        text-align: right;\n",
              "    }\n",
              "</style>\n",
              "<table border=\"1\" class=\"dataframe\">\n",
              "  <thead>\n",
              "    <tr style=\"text-align: right;\">\n",
              "      <th></th>\n",
              "      <th>consumer_reviews</th>\n",
              "      <th>polarity_label</th>\n",
              "    </tr>\n",
              "  </thead>\n",
              "  <tbody>\n",
              "    <tr>\n",
              "      <th>0</th>\n",
              "      <td>done homework quest chess mastery purchased bo...</td>\n",
              "      <td>0</td>\n",
              "    </tr>\n",
              "    <tr>\n",
              "      <th>1</th>\n",
              "      <td>found book fairly ordinary liked stories seeme...</td>\n",
              "      <td>0</td>\n",
              "    </tr>\n",
              "    <tr>\n",
              "      <th>2</th>\n",
              "      <td>inferior product used chaise occasions already...</td>\n",
              "      <td>0</td>\n",
              "    </tr>\n",
              "    <tr>\n",
              "      <th>3</th>\n",
              "      <td>not support purchased ce compass current top o...</td>\n",
              "      <td>0</td>\n",
              "    </tr>\n",
              "    <tr>\n",
              "      <th>4</th>\n",
              "      <td>compared legos lego favorite toymaker really c...</td>\n",
              "      <td>0</td>\n",
              "    </tr>\n",
              "  </tbody>\n",
              "</table>\n",
              "</div>"
            ],
            "text/plain": [
              "                                    consumer_reviews  polarity_label\n",
              "0  done homework quest chess mastery purchased bo...               0\n",
              "1  found book fairly ordinary liked stories seeme...               0\n",
              "2  inferior product used chaise occasions already...               0\n",
              "3  not support purchased ce compass current top o...               0\n",
              "4  compared legos lego favorite toymaker really c...               0"
            ]
          },
          "metadata": {
            "tags": []
          },
          "execution_count": 34
        }
      ]
    },
    {
      "cell_type": "code",
      "metadata": {
        "id": "0PpQrvmjjxoz"
      },
      "source": [
        "X_train, X_test, y_train, y_test = model_selection.train_test_split(X['consumer_reviews'], X['polarity_label'], test_size=0.3, random_state=42)"
      ],
      "execution_count": 35,
      "outputs": []
    },
    {
      "cell_type": "code",
      "metadata": {
        "colab": {
          "base_uri": "https://localhost:8080/"
        },
        "id": "5fGf-kMlsAMp",
        "outputId": "f4759300-e39e-4450-b05f-2cdb2ef8ef67"
      },
      "source": [
        "type(X_train)"
      ],
      "execution_count": 36,
      "outputs": [
        {
          "output_type": "execute_result",
          "data": {
            "text/plain": [
              "pandas.core.series.Series"
            ]
          },
          "metadata": {
            "tags": []
          },
          "execution_count": 36
        }
      ]
    },
    {
      "cell_type": "code",
      "metadata": {
        "id": "kvPKH6_CsJL7"
      },
      "source": [
        "# convert to array\r\n",
        "X_train = np.array(X_train.values.tolist())\r\n",
        "X_test = np.array(X_test.values.tolist())\r\n",
        "y_train = np.array(y_train.values.tolist())\r\n",
        "y_test = np.array(y_test.values.tolist())"
      ],
      "execution_count": 37,
      "outputs": []
    },
    {
      "cell_type": "code",
      "metadata": {
        "colab": {
          "base_uri": "https://localhost:8080/"
        },
        "id": "2v0dgRgIsqk5",
        "outputId": "7c5f1d96-577f-4790-def3-d45e423f8a4a"
      },
      "source": [
        "# Apply Tokenizer\r\n",
        "tokenizer = Tokenizer()\r\n",
        "tokenizer.fit_on_texts(X_train)\r\n",
        "word_index = tokenizer.word_index\r\n",
        "total_size = len(word_index)+1\r\n",
        "print(total_size)"
      ],
      "execution_count": 38,
      "outputs": [
        {
          "output_type": "stream",
          "text": [
            "229661\n"
          ],
          "name": "stdout"
        }
      ]
    },
    {
      "cell_type": "code",
      "metadata": {
        "colab": {
          "base_uri": "https://localhost:8080/"
        },
        "id": "Wjf_XTDjs0OT",
        "outputId": "252a2170-cb71-4119-9c55-b5b801f766c8"
      },
      "source": [
        "print(word_index)"
      ],
      "execution_count": 39,
      "outputs": [
        {
          "output_type": "stream",
          "text": [
            "IOPub data rate exceeded.\n",
            "The notebook server will temporarily stop sending output\n",
            "to the client in order to avoid crashing it.\n",
            "To change this limit, set the config variable\n",
            "`--NotebookApp.iopub_data_rate_limit`.\n",
            "\n",
            "Current values:\n",
            "NotebookApp.iopub_data_rate_limit=1000000.0 (bytes/sec)\n",
            "NotebookApp.rate_limit_window=3.0 (secs)\n",
            "\n"
          ],
          "name": "stderr"
        }
      ]
    },
    {
      "cell_type": "code",
      "metadata": {
        "id": "WL7nyIf6tTTJ"
      },
      "source": [
        "X_train = tokenizer.texts_to_sequences(X_train)\r\n",
        "X_test = tokenizer.texts_to_sequences(X_test)"
      ],
      "execution_count": 40,
      "outputs": []
    },
    {
      "cell_type": "code",
      "metadata": {
        "id": "mcvyyDmRvehY"
      },
      "source": [
        "X_train = pad_sequences(X_train, maxlen=100, padding='post', truncating='post')\r\n",
        "X_test = pad_sequences(X_test, maxlen=100, padding='post', truncating='post')"
      ],
      "execution_count": 41,
      "outputs": []
    },
    {
      "cell_type": "code",
      "metadata": {
        "colab": {
          "base_uri": "https://localhost:8080/"
        },
        "id": "jvHQP6qxwH6C",
        "outputId": "d649899b-9bb3-44a6-bc86-40355f920d5a"
      },
      "source": [
        "# create Model\r\n",
        "model = tf.keras.models.Sequential(\r\n",
        "    [\r\n",
        "     tf.keras.layers.Embedding(total_size, 20, input_length=100),\r\n",
        "     tf.keras.layers.LSTM(32, dropout=0.2, recurrent_dropout=0.2),\r\n",
        "     tf.keras.layers.Dense(1, activation='sigmoid')\r\n",
        "    ]\r\n",
        ")"
      ],
      "execution_count": 42,
      "outputs": [
        {
          "output_type": "stream",
          "text": [
            "WARNING:tensorflow:Layer lstm will not use cuDNN kernel since it doesn't meet the cuDNN kernel criteria. It will use generic GPU kernel as fallback when running on GPU\n"
          ],
          "name": "stdout"
        }
      ]
    },
    {
      "cell_type": "code",
      "metadata": {
        "id": "eSR-Y7ubxssF"
      },
      "source": [
        "model.compile(\r\n",
        "    optimizer = tf.keras.optimizers.Adam(learning_rate=0.01),\r\n",
        "    loss = tf.keras.losses.binary_crossentropy,\r\n",
        "    metrics = ['accuracy']\r\n",
        ")"
      ],
      "execution_count": 43,
      "outputs": []
    },
    {
      "cell_type": "code",
      "metadata": {
        "colab": {
          "base_uri": "https://localhost:8080/"
        },
        "id": "QFuXB-s1yNRj",
        "outputId": "da178cd1-ee75-4529-cdee-38b86706ddaf"
      },
      "source": [
        "print(model.summary())"
      ],
      "execution_count": 44,
      "outputs": [
        {
          "output_type": "stream",
          "text": [
            "Model: \"sequential\"\n",
            "_________________________________________________________________\n",
            "Layer (type)                 Output Shape              Param #   \n",
            "=================================================================\n",
            "embedding (Embedding)        (None, 100, 20)           4593220   \n",
            "_________________________________________________________________\n",
            "lstm (LSTM)                  (None, 32)                6784      \n",
            "_________________________________________________________________\n",
            "dense (Dense)                (None, 1)                 33        \n",
            "=================================================================\n",
            "Total params: 4,600,037\n",
            "Trainable params: 4,600,037\n",
            "Non-trainable params: 0\n",
            "_________________________________________________________________\n",
            "None\n"
          ],
          "name": "stdout"
        }
      ]
    },
    {
      "cell_type": "code",
      "metadata": {
        "id": "FBA3worKyQe6"
      },
      "source": [
        "class MyCallback(tf.keras.callbacks.Callback):\r\n",
        "  def on_epoch_end(self, epochs, logs={}):\r\n",
        "    if(logs.get('accuracy')> 0.9):\r\n",
        "      print('Achieved  DESIRED ACCURACY')\r\n",
        "      self.model.stop_training = True\r\n",
        "\r\n",
        "callbacks = MyCallback() "
      ],
      "execution_count": 45,
      "outputs": []
    },
    {
      "cell_type": "code",
      "metadata": {
        "colab": {
          "base_uri": "https://localhost:8080/"
        },
        "id": "VXktN3-h2AkH",
        "outputId": "00118145-33bf-4748-bce1-2f39fd926935"
      },
      "source": [
        "model.fit(\r\n",
        "    X_train,\r\n",
        "    y_train,\r\n",
        "    batch_size = 128,\r\n",
        "    epochs = 5,\r\n",
        "    verbose = 1,\r\n",
        "    validation_data = (X_test, y_test),\r\n",
        "    callbacks = [callbacks]\r\n",
        ")"
      ],
      "execution_count": 48,
      "outputs": [
        {
          "output_type": "stream",
          "text": [
            "Epoch 1/5\n",
            "2954/2954 [==============================] - 1230s 416ms/step - loss: 1.1662e-06 - accuracy: 1.0000 - val_loss: 3.3339e-07 - val_accuracy: 1.0000\n",
            "Achieved  DESIRED ACCURACY\n"
          ],
          "name": "stdout"
        },
        {
          "output_type": "execute_result",
          "data": {
            "text/plain": [
              "<tensorflow.python.keras.callbacks.History at 0x7f9fcd46d4a8>"
            ]
          },
          "metadata": {
            "tags": []
          },
          "execution_count": 48
        }
      ]
    },
    {
      "cell_type": "code",
      "metadata": {
        "id": "UVe99-vY2VE2"
      },
      "source": [
        "# save the model\r\n",
        "model.save('model.h5')"
      ],
      "execution_count": 49,
      "outputs": []
    },
    {
      "cell_type": "code",
      "metadata": {
        "colab": {
          "base_uri": "https://localhost:8080/"
        },
        "id": "HiXRJ19g9k1o",
        "outputId": "c15f2ec8-502e-4f3e-fc87-eb1c55581168"
      },
      "source": [
        "model = tf.keras.models.load_model('model.h5')"
      ],
      "execution_count": 50,
      "outputs": [
        {
          "output_type": "stream",
          "text": [
            "WARNING:tensorflow:Layer lstm will not use cuDNN kernel since it doesn't meet the cuDNN kernel criteria. It will use generic GPU kernel as fallback when running on GPU\n"
          ],
          "name": "stdout"
        }
      ]
    },
    {
      "cell_type": "code",
      "metadata": {
        "colab": {
          "base_uri": "https://localhost:8080/"
        },
        "id": "gDw88uLj9tbo",
        "outputId": "9d49d0f2-d6c7-4169-99df-3ab1b7e7b02d"
      },
      "source": [
        "print(model.summary())"
      ],
      "execution_count": 51,
      "outputs": [
        {
          "output_type": "stream",
          "text": [
            "Model: \"sequential\"\n",
            "_________________________________________________________________\n",
            "Layer (type)                 Output Shape              Param #   \n",
            "=================================================================\n",
            "embedding (Embedding)        (None, 100, 20)           4593220   \n",
            "_________________________________________________________________\n",
            "lstm (LSTM)                  (None, 32)                6784      \n",
            "_________________________________________________________________\n",
            "dense (Dense)                (None, 1)                 33        \n",
            "=================================================================\n",
            "Total params: 4,600,037\n",
            "Trainable params: 4,600,037\n",
            "Non-trainable params: 0\n",
            "_________________________________________________________________\n",
            "None\n"
          ],
          "name": "stdout"
        }
      ]
    },
    {
      "cell_type": "code",
      "metadata": {
        "id": "evLdWQCP9vPH"
      },
      "source": [
        ""
      ],
      "execution_count": null,
      "outputs": []
    }
  ]
}