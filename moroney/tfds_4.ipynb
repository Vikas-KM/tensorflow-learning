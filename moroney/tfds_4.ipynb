{
  "nbformat": 4,
  "nbformat_minor": 0,
  "metadata": {
    "colab": {
      "name": "tfds_4.ipynb",
      "provenance": [],
      "collapsed_sections": [],
      "authorship_tag": "ABX9TyNQrknI1Xq/GsyyhoT7d7mW",
      "include_colab_link": true
    },
    "kernelspec": {
      "name": "python3",
      "display_name": "Python 3"
    }
  },
  "cells": [
    {
      "cell_type": "markdown",
      "metadata": {
        "id": "view-in-github",
        "colab_type": "text"
      },
      "source": [
        "<a href=\"https://colab.research.google.com/github/Vikas-KM/tensorflow-learning/blob/master/tfds_4.ipynb\" target=\"_parent\"><img src=\"https://colab.research.google.com/assets/colab-badge.svg\" alt=\"Open In Colab\"/></a>"
      ]
    },
    {
      "cell_type": "code",
      "metadata": {
        "id": "wG1aoI67_H6E"
      },
      "source": [
        "import tensorflow as tf\r\n",
        "import tensorflow_datasets as tfds"
      ],
      "execution_count": 1,
      "outputs": []
    },
    {
      "cell_type": "code",
      "metadata": {
        "colab": {
          "base_uri": "https://localhost:8080/"
        },
        "id": "6O3opSS9_NwQ",
        "outputId": "9cc88438-73d2-4550-c0fd-626aa7307bf6"
      },
      "source": [
        "image, label = tfds.as_numpy(tfds.load(\r\n",
        "    'mnist',\r\n",
        "    split='test',\r\n",
        "    batch_size=-1,\r\n",
        "    as_supervised=True,\r\n",
        "))\r\n",
        "\r\n",
        "print(type(image), image.shape)\r\n"
      ],
      "execution_count": 2,
      "outputs": [
        {
          "output_type": "stream",
          "text": [
            "<class 'numpy.ndarray'> (10000, 28, 28, 1)\n"
          ],
          "name": "stdout"
        }
      ]
    },
    {
      "cell_type": "code",
      "metadata": {
        "colab": {
          "base_uri": "https://localhost:8080/"
        },
        "id": "laqSKa49_TB6",
        "outputId": "1aec7c89-a480-4a93-9f48-43087199bb9d"
      },
      "source": [
        "\r\n",
        "(training_images, training_labels),(test_images, test_labels) = tfds.as_numpy(tfds.load(\r\n",
        "    'mnist',\r\n",
        "    split=['train','test'],\r\n",
        "    batch_size=-1,\r\n",
        "    as_supervised=True,\r\n",
        "))\r\n",
        "\r\n",
        "print(type(training_images), training_images.shape)\r\n",
        "print(type(test_images), test_images.shape)\r\n"
      ],
      "execution_count": 3,
      "outputs": [
        {
          "output_type": "stream",
          "text": [
            "<class 'numpy.ndarray'> (60000, 28, 28, 1)\n",
            "<class 'numpy.ndarray'> (10000, 28, 28, 1)\n"
          ],
          "name": "stdout"
        }
      ]
    },
    {
      "cell_type": "code",
      "metadata": {
        "colab": {
          "base_uri": "https://localhost:8080/"
        },
        "id": "pjjWnrx7_v3g",
        "outputId": "debc6581-c1e2-4e6c-a94b-a490a8182c7a"
      },
      "source": [
        "# list of datasets\r\n",
        "tfds.list_builders()"
      ],
      "execution_count": 4,
      "outputs": [
        {
          "output_type": "execute_result",
          "data": {
            "text/plain": [
              "['abstract_reasoning',\n",
              " 'accentdb',\n",
              " 'aeslc',\n",
              " 'aflw2k3d',\n",
              " 'ag_news_subset',\n",
              " 'ai2_arc',\n",
              " 'ai2_arc_with_ir',\n",
              " 'amazon_us_reviews',\n",
              " 'anli',\n",
              " 'arc',\n",
              " 'bair_robot_pushing_small',\n",
              " 'bccd',\n",
              " 'beans',\n",
              " 'big_patent',\n",
              " 'bigearthnet',\n",
              " 'billsum',\n",
              " 'binarized_mnist',\n",
              " 'binary_alpha_digits',\n",
              " 'blimp',\n",
              " 'bool_q',\n",
              " 'c4',\n",
              " 'caltech101',\n",
              " 'caltech_birds2010',\n",
              " 'caltech_birds2011',\n",
              " 'cars196',\n",
              " 'cassava',\n",
              " 'cats_vs_dogs',\n",
              " 'celeb_a',\n",
              " 'celeb_a_hq',\n",
              " 'cfq',\n",
              " 'chexpert',\n",
              " 'cifar10',\n",
              " 'cifar100',\n",
              " 'cifar10_1',\n",
              " 'cifar10_corrupted',\n",
              " 'citrus_leaves',\n",
              " 'cityscapes',\n",
              " 'civil_comments',\n",
              " 'clevr',\n",
              " 'clic',\n",
              " 'clinc_oos',\n",
              " 'cmaterdb',\n",
              " 'cnn_dailymail',\n",
              " 'coco',\n",
              " 'coco_captions',\n",
              " 'coil100',\n",
              " 'colorectal_histology',\n",
              " 'colorectal_histology_large',\n",
              " 'common_voice',\n",
              " 'coqa',\n",
              " 'cos_e',\n",
              " 'cosmos_qa',\n",
              " 'covid19sum',\n",
              " 'crema_d',\n",
              " 'curated_breast_imaging_ddsm',\n",
              " 'cycle_gan',\n",
              " 'deep_weeds',\n",
              " 'definite_pronoun_resolution',\n",
              " 'dementiabank',\n",
              " 'diabetic_retinopathy_detection',\n",
              " 'div2k',\n",
              " 'dmlab',\n",
              " 'downsampled_imagenet',\n",
              " 'dsprites',\n",
              " 'dtd',\n",
              " 'duke_ultrasound',\n",
              " 'emnist',\n",
              " 'eraser_multi_rc',\n",
              " 'esnli',\n",
              " 'eurosat',\n",
              " 'fashion_mnist',\n",
              " 'flic',\n",
              " 'flores',\n",
              " 'food101',\n",
              " 'forest_fires',\n",
              " 'fuss',\n",
              " 'gap',\n",
              " 'geirhos_conflict_stimuli',\n",
              " 'genomics_ood',\n",
              " 'german_credit_numeric',\n",
              " 'gigaword',\n",
              " 'glue',\n",
              " 'goemotions',\n",
              " 'gpt3',\n",
              " 'groove',\n",
              " 'gtzan',\n",
              " 'gtzan_music_speech',\n",
              " 'hellaswag',\n",
              " 'higgs',\n",
              " 'horses_or_humans',\n",
              " 'i_naturalist2017',\n",
              " 'imagenet2012',\n",
              " 'imagenet2012_corrupted',\n",
              " 'imagenet2012_real',\n",
              " 'imagenet2012_subset',\n",
              " 'imagenet_a',\n",
              " 'imagenet_r',\n",
              " 'imagenet_resized',\n",
              " 'imagenet_v2',\n",
              " 'imagenette',\n",
              " 'imagewang',\n",
              " 'imdb_reviews',\n",
              " 'irc_disentanglement',\n",
              " 'iris',\n",
              " 'kitti',\n",
              " 'kmnist',\n",
              " 'lfw',\n",
              " 'librispeech',\n",
              " 'librispeech_lm',\n",
              " 'libritts',\n",
              " 'ljspeech',\n",
              " 'lm1b',\n",
              " 'lost_and_found',\n",
              " 'lsun',\n",
              " 'malaria',\n",
              " 'math_dataset',\n",
              " 'mctaco',\n",
              " 'mnist',\n",
              " 'mnist_corrupted',\n",
              " 'movie_lens',\n",
              " 'movie_rationales',\n",
              " 'movielens',\n",
              " 'moving_mnist',\n",
              " 'multi_news',\n",
              " 'multi_nli',\n",
              " 'multi_nli_mismatch',\n",
              " 'natural_questions',\n",
              " 'natural_questions_open',\n",
              " 'newsroom',\n",
              " 'nsynth',\n",
              " 'nyu_depth_v2',\n",
              " 'omniglot',\n",
              " 'open_images_challenge2019_detection',\n",
              " 'open_images_v4',\n",
              " 'openbookqa',\n",
              " 'opinion_abstracts',\n",
              " 'opinosis',\n",
              " 'opus',\n",
              " 'oxford_flowers102',\n",
              " 'oxford_iiit_pet',\n",
              " 'para_crawl',\n",
              " 'patch_camelyon',\n",
              " 'paws_wiki',\n",
              " 'paws_x_wiki',\n",
              " 'pet_finder',\n",
              " 'pg19',\n",
              " 'places365_small',\n",
              " 'plant_leaves',\n",
              " 'plant_village',\n",
              " 'plantae_k',\n",
              " 'qa4mre',\n",
              " 'qasc',\n",
              " 'quickdraw_bitmap',\n",
              " 'radon',\n",
              " 'reddit',\n",
              " 'reddit_disentanglement',\n",
              " 'reddit_tifu',\n",
              " 'resisc45',\n",
              " 'robonet',\n",
              " 'rock_paper_scissors',\n",
              " 'rock_you',\n",
              " 'salient_span_wikipedia',\n",
              " 'samsum',\n",
              " 'savee',\n",
              " 'scan',\n",
              " 'scene_parse150',\n",
              " 'scicite',\n",
              " 'scientific_papers',\n",
              " 'sentiment140',\n",
              " 'shapes3d',\n",
              " 'smallnorb',\n",
              " 'snli',\n",
              " 'so2sat',\n",
              " 'speech_commands',\n",
              " 'spoken_digit',\n",
              " 'squad',\n",
              " 'stanford_dogs',\n",
              " 'stanford_online_products',\n",
              " 'starcraft_video',\n",
              " 'stl10',\n",
              " 'sun397',\n",
              " 'super_glue',\n",
              " 'svhn_cropped',\n",
              " 'ted_hrlr_translate',\n",
              " 'ted_multi_translate',\n",
              " 'tedlium',\n",
              " 'tf_flowers',\n",
              " 'the300w_lp',\n",
              " 'tiny_shakespeare',\n",
              " 'titanic',\n",
              " 'trec',\n",
              " 'trivia_qa',\n",
              " 'tydi_qa',\n",
              " 'uc_merced',\n",
              " 'ucf101',\n",
              " 'vctk',\n",
              " 'vgg_face2',\n",
              " 'visual_domain_decathlon',\n",
              " 'voc',\n",
              " 'voxceleb',\n",
              " 'voxforge',\n",
              " 'waymo_open_dataset',\n",
              " 'web_questions',\n",
              " 'wider_face',\n",
              " 'wiki40b',\n",
              " 'wikihow',\n",
              " 'wikipedia',\n",
              " 'wikipedia_toxicity_subtypes',\n",
              " 'wine_quality',\n",
              " 'winogrande',\n",
              " 'wmt14_translate',\n",
              " 'wmt15_translate',\n",
              " 'wmt16_translate',\n",
              " 'wmt17_translate',\n",
              " 'wmt18_translate',\n",
              " 'wmt19_translate',\n",
              " 'wmt_t2t_translate',\n",
              " 'wmt_translate',\n",
              " 'wordnet',\n",
              " 'xnli',\n",
              " 'xquad',\n",
              " 'xsum',\n",
              " 'yelp_polarity_reviews',\n",
              " 'yes_no']"
            ]
          },
          "metadata": {
            "tags": []
          },
          "execution_count": 4
        }
      ]
    },
    {
      "cell_type": "code",
      "metadata": {
        "colab": {
          "base_uri": "https://localhost:8080/"
        },
        "id": "-AUkM1edABez",
        "outputId": "45270320-7c44-4fb2-b583-cb13b114c75c"
      },
      "source": [
        "mnist_data = tfds.load('fashion_mnist', split='test')\r\n",
        "print(type(mnist_data))\r\n",
        "# for item in mnist_data:\r\n",
        "#   print(item)"
      ],
      "execution_count": 5,
      "outputs": [
        {
          "output_type": "stream",
          "text": [
            "<class 'tensorflow.python.data.ops.dataset_ops.PrefetchDataset'>\n"
          ],
          "name": "stdout"
        }
      ]
    },
    {
      "cell_type": "code",
      "metadata": {
        "id": "Sx4SeeDuAvTf",
        "colab": {
          "base_uri": "https://localhost:8080/"
        },
        "outputId": "785e9108-a973-4b35-d142-0a03f196ba14"
      },
      "source": [
        "mnist_data"
      ],
      "execution_count": 7,
      "outputs": [
        {
          "output_type": "execute_result",
          "data": {
            "text/plain": [
              "<PrefetchDataset shapes: {image: (28, 28, 1), label: ()}, types: {image: tf.uint8, label: tf.int64}>"
            ]
          },
          "metadata": {
            "tags": []
          },
          "execution_count": 7
        }
      ]
    },
    {
      "cell_type": "code",
      "metadata": {
        "colab": {
          "base_uri": "https://localhost:8080/"
        },
        "id": "agKtzz9Ef8hz",
        "outputId": "209a33e7-48bb-4ed2-adfa-6dd9c670834a"
      },
      "source": [
        "print(type(mnist_data))"
      ],
      "execution_count": 10,
      "outputs": [
        {
          "output_type": "stream",
          "text": [
            "<class 'tensorflow.python.data.ops.dataset_ops.PrefetchDataset'>\n"
          ],
          "name": "stdout"
        }
      ]
    },
    {
      "cell_type": "code",
      "metadata": {
        "colab": {
          "base_uri": "https://localhost:8080/"
        },
        "id": "UnnZsdOdgQc9",
        "outputId": "0f37c198-57a0-4552-d47b-6c7f83a77ad5"
      },
      "source": [
        "for item in mnist_data.take(1):\r\n",
        "  print(type(item))\r\n",
        "  print(item.keys())"
      ],
      "execution_count": 11,
      "outputs": [
        {
          "output_type": "stream",
          "text": [
            "<class 'dict'>\n",
            "dict_keys(['image', 'label'])\n"
          ],
          "name": "stdout"
        }
      ]
    },
    {
      "cell_type": "code",
      "metadata": {
        "colab": {
          "base_uri": "https://localhost:8080/"
        },
        "id": "0pg0V8Hygeoe",
        "outputId": "e8a717a6-ae62-4f60-9978-d17c24399948"
      },
      "source": [
        "# https://www.tensorflow.org/datasets\r\n",
        "\r\n",
        "import tensorflow as tf\r\n",
        "import tensorflow_datasets as tfds\r\n",
        "\r\n",
        "# Construct a tf.data.Dataset\r\n",
        "ds = tfds.load('fashion_mnist', split='train')\r\n",
        "print(type(ds))\r\n",
        "# Build your input pipeline\r\n",
        "# ds = ds.shuffle(1024).batch(32).prefetch(tf.data.experimental.AUTOTUNE)\r\n",
        "for example in ds.take(1):\r\n",
        "  image, label = example[\"image\"], example[\"label\"]\r\n",
        "  # print(image)\r\n",
        "  # print(label)"
      ],
      "execution_count": 12,
      "outputs": [
        {
          "output_type": "stream",
          "text": [
            "<class 'tensorflow.python.data.ops.dataset_ops.PrefetchDataset'>\n"
          ],
          "name": "stdout"
        }
      ]
    },
    {
      "cell_type": "code",
      "metadata": {
        "colab": {
          "base_uri": "https://localhost:8080/"
        },
        "id": "n3mZt9Z6hZpV",
        "outputId": "d1297e55-9f78-455b-c160-fd46c9a7eea8"
      },
      "source": [
        "print(type(ds))"
      ],
      "execution_count": 13,
      "outputs": [
        {
          "output_type": "stream",
          "text": [
            "<class 'tensorflow.python.data.ops.dataset_ops.PrefetchDataset'>\n"
          ],
          "name": "stdout"
        }
      ]
    },
    {
      "cell_type": "code",
      "metadata": {
        "id": "6ef6-cQ4igSA"
      },
      "source": [
        "# for model building\r\n",
        "(training_images, training_labels),(test_images, test_labels) = tfds.as_numpy(\r\n",
        "    tfds.load('fashion_mnist', split=['train','test'],\r\n",
        "              batch_size=-1,\r\n",
        "              as_supervised=True)\r\n",
        ")"
      ],
      "execution_count": 14,
      "outputs": []
    },
    {
      "cell_type": "code",
      "metadata": {
        "id": "5D_-GgFij_hz"
      },
      "source": [
        "training_images = training_images / 255\r\n",
        "test_images = test_images / 255"
      ],
      "execution_count": 15,
      "outputs": []
    },
    {
      "cell_type": "code",
      "metadata": {
        "id": "t2NNMSn1kNQ0"
      },
      "source": [
        "model = tf.keras.Sequential(\r\n",
        "    [\r\n",
        "     tf.keras.layers.Flatten(input_shape=(28,28,1)),\r\n",
        "     tf.keras.layers.Dense(64, activation='relu'),\r\n",
        "     tf.keras.layers.Dropout(0.2),\r\n",
        "     tf.keras.layers.Dense(10, activation='softmax')\r\n",
        "    ]\r\n",
        ")"
      ],
      "execution_count": 16,
      "outputs": []
    },
    {
      "cell_type": "code",
      "metadata": {
        "id": "TcfRQggmkmfP"
      },
      "source": [
        "model.compile(\r\n",
        "    optimizer = 'adam',\r\n",
        "    loss = 'sparse_categorical_crossentropy',\r\n",
        "    metrics=['accuracy'],\r\n",
        ")"
      ],
      "execution_count": 17,
      "outputs": []
    },
    {
      "cell_type": "code",
      "metadata": {
        "colab": {
          "base_uri": "https://localhost:8080/"
        },
        "id": "WwaGeYLGkyNl",
        "outputId": "b40748f6-7b4d-439f-df0a-f30c79e77361"
      },
      "source": [
        "model.fit(training_images, training_labels, epochs=10)"
      ],
      "execution_count": 18,
      "outputs": [
        {
          "output_type": "stream",
          "text": [
            "Epoch 1/10\n",
            "1875/1875 [==============================] - 3s 2ms/step - loss: 0.7474 - accuracy: 0.7406\n",
            "Epoch 2/10\n",
            "1875/1875 [==============================] - 3s 2ms/step - loss: 0.4340 - accuracy: 0.8424\n",
            "Epoch 3/10\n",
            "1875/1875 [==============================] - 3s 2ms/step - loss: 0.3993 - accuracy: 0.8548\n",
            "Epoch 4/10\n",
            "1875/1875 [==============================] - 3s 2ms/step - loss: 0.3732 - accuracy: 0.8637\n",
            "Epoch 5/10\n",
            "1875/1875 [==============================] - 3s 2ms/step - loss: 0.3522 - accuracy: 0.8711\n",
            "Epoch 6/10\n",
            "1875/1875 [==============================] - 3s 2ms/step - loss: 0.3413 - accuracy: 0.8753\n",
            "Epoch 7/10\n",
            "1875/1875 [==============================] - 3s 2ms/step - loss: 0.3379 - accuracy: 0.8743\n",
            "Epoch 8/10\n",
            "1875/1875 [==============================] - 3s 2ms/step - loss: 0.3269 - accuracy: 0.8786\n",
            "Epoch 9/10\n",
            "1875/1875 [==============================] - 3s 2ms/step - loss: 0.3133 - accuracy: 0.8837\n",
            "Epoch 10/10\n",
            "1875/1875 [==============================] - 3s 2ms/step - loss: 0.3134 - accuracy: 0.8840\n"
          ],
          "name": "stdout"
        },
        {
          "output_type": "execute_result",
          "data": {
            "text/plain": [
              "<tensorflow.python.keras.callbacks.History at 0x7f5ec1c73e48>"
            ]
          },
          "metadata": {
            "tags": []
          },
          "execution_count": 18
        }
      ]
    },
    {
      "cell_type": "code",
      "metadata": {
        "colab": {
          "base_uri": "https://localhost:8080/"
        },
        "id": "1-oXFm0_k2uZ",
        "outputId": "cd65250a-b9a8-4cea-e35b-cd6179976608"
      },
      "source": [
        "! pip install tensorflow-addons"
      ],
      "execution_count": 36,
      "outputs": [
        {
          "output_type": "stream",
          "text": [
            "Requirement already satisfied: tensorflow-addons in /usr/local/lib/python3.6/dist-packages (0.8.3)\n",
            "Requirement already satisfied: typeguard in /usr/local/lib/python3.6/dist-packages (from tensorflow-addons) (2.7.1)\n"
          ],
          "name": "stdout"
        }
      ]
    },
    {
      "cell_type": "code",
      "metadata": {
        "id": "jICplKGVmf2p"
      },
      "source": [
        "import tensorflow_addons as tfa\r\n",
        "\r\n",
        "def augumentations(image, label):\r\n",
        "  image = tf.cast(image, tf.float32)\r\n",
        "  image = (image/255)\r\n",
        "  image = tf.image.random_flip_left_right(image)\r\n",
        "  image = tfa.image.rotate(image, 40, interpolation='NEAREST')\r\n",
        "  return image, label"
      ],
      "execution_count": 19,
      "outputs": []
    },
    {
      "cell_type": "code",
      "metadata": {
        "id": "pGEAz6iinCD1"
      },
      "source": [
        "data = tfds.load('horses_or_humans', split='train', as_supervised=True)"
      ],
      "execution_count": 20,
      "outputs": []
    },
    {
      "cell_type": "code",
      "metadata": {
        "id": "6H4OADKrnPUh"
      },
      "source": [
        "train = data.map(augumentations)"
      ],
      "execution_count": 21,
      "outputs": []
    },
    {
      "cell_type": "code",
      "metadata": {
        "colab": {
          "base_uri": "https://localhost:8080/",
          "height": 280
        },
        "id": "kvd9CC1knY0X",
        "outputId": "c2ab3224-ec36-4b50-c017-cc59c4b3424b"
      },
      "source": [
        "! pip install -U tensorflow-addons"
      ],
      "execution_count": 49,
      "outputs": [
        {
          "output_type": "stream",
          "text": [
            "Collecting tensorflow-addons\n",
            "\u001b[?25l  Downloading https://files.pythonhosted.org/packages/d6/98/8e97194e774f35a1319668e12571d5fa19f323e0ccae9d9890258aab1fcc/tensorflow_addons-0.12.0-cp36-cp36m-manylinux2010_x86_64.whl (703kB)\n",
            "\r\u001b[K     |▌                               | 10kB 16.8MB/s eta 0:00:01\r\u001b[K     |█                               | 20kB 14.8MB/s eta 0:00:01\r\u001b[K     |█▍                              | 30kB 6.8MB/s eta 0:00:01\r\u001b[K     |█▉                              | 40kB 8.1MB/s eta 0:00:01\r\u001b[K     |██▎                             | 51kB 4.2MB/s eta 0:00:01\r\u001b[K     |██▉                             | 61kB 4.7MB/s eta 0:00:01\r\u001b[K     |███▎                            | 71kB 5.1MB/s eta 0:00:01\r\u001b[K     |███▊                            | 81kB 5.1MB/s eta 0:00:01\r\u001b[K     |████▏                           | 92kB 5.2MB/s eta 0:00:01\r\u001b[K     |████▋                           | 102kB 4.2MB/s eta 0:00:01\r\u001b[K     |█████▏                          | 112kB 4.2MB/s eta 0:00:01\r\u001b[K     |█████▋                          | 122kB 4.2MB/s eta 0:00:01\r\u001b[K     |██████                          | 133kB 4.2MB/s eta 0:00:01\r\u001b[K     |██████▌                         | 143kB 4.2MB/s eta 0:00:01\r\u001b[K     |███████                         | 153kB 4.2MB/s eta 0:00:01\r\u001b[K     |███████▌                        | 163kB 4.2MB/s eta 0:00:01\r\u001b[K     |████████                        | 174kB 4.2MB/s eta 0:00:01\r\u001b[K     |████████▍                       | 184kB 4.2MB/s eta 0:00:01\r\u001b[K     |████████▉                       | 194kB 4.2MB/s eta 0:00:01\r\u001b[K     |█████████▎                      | 204kB 4.2MB/s eta 0:00:01\r\u001b[K     |█████████▉                      | 215kB 4.2MB/s eta 0:00:01\r\u001b[K     |██████████▎                     | 225kB 4.2MB/s eta 0:00:01\r\u001b[K     |██████████▊                     | 235kB 4.2MB/s eta 0:00:01\r\u001b[K     |███████████▏                    | 245kB 4.2MB/s eta 0:00:01\r\u001b[K     |███████████▋                    | 256kB 4.2MB/s eta 0:00:01\r\u001b[K     |████████████▏                   | 266kB 4.2MB/s eta 0:00:01\r\u001b[K     |████████████▋                   | 276kB 4.2MB/s eta 0:00:01\r\u001b[K     |█████████████                   | 286kB 4.2MB/s eta 0:00:01\r\u001b[K     |█████████████▌                  | 296kB 4.2MB/s eta 0:00:01\r\u001b[K     |██████████████                  | 307kB 4.2MB/s eta 0:00:01\r\u001b[K     |██████████████▍                 | 317kB 4.2MB/s eta 0:00:01\r\u001b[K     |███████████████                 | 327kB 4.2MB/s eta 0:00:01\r\u001b[K     |███████████████▍                | 337kB 4.2MB/s eta 0:00:01\r\u001b[K     |███████████████▉                | 348kB 4.2MB/s eta 0:00:01\r\u001b[K     |████████████████▎               | 358kB 4.2MB/s eta 0:00:01\r\u001b[K     |████████████████▊               | 368kB 4.2MB/s eta 0:00:01\r\u001b[K     |█████████████████▎              | 378kB 4.2MB/s eta 0:00:01\r\u001b[K     |█████████████████▊              | 389kB 4.2MB/s eta 0:00:01\r\u001b[K     |██████████████████▏             | 399kB 4.2MB/s eta 0:00:01\r\u001b[K     |██████████████████▋             | 409kB 4.2MB/s eta 0:00:01\r\u001b[K     |███████████████████             | 419kB 4.2MB/s eta 0:00:01\r\u001b[K     |███████████████████▋            | 430kB 4.2MB/s eta 0:00:01\r\u001b[K     |████████████████████            | 440kB 4.2MB/s eta 0:00:01\r\u001b[K     |████████████████████▌           | 450kB 4.2MB/s eta 0:00:01\r\u001b[K     |█████████████████████           | 460kB 4.2MB/s eta 0:00:01\r\u001b[K     |█████████████████████▍          | 471kB 4.2MB/s eta 0:00:01\r\u001b[K     |██████████████████████          | 481kB 4.2MB/s eta 0:00:01\r\u001b[K     |██████████████████████▍         | 491kB 4.2MB/s eta 0:00:01\r\u001b[K     |██████████████████████▉         | 501kB 4.2MB/s eta 0:00:01\r\u001b[K     |███████████████████████▎        | 512kB 4.2MB/s eta 0:00:01\r\u001b[K     |███████████████████████▊        | 522kB 4.2MB/s eta 0:00:01\r\u001b[K     |████████████████████████▎       | 532kB 4.2MB/s eta 0:00:01\r\u001b[K     |████████████████████████▊       | 542kB 4.2MB/s eta 0:00:01\r\u001b[K     |█████████████████████████▏      | 552kB 4.2MB/s eta 0:00:01\r\u001b[K     |█████████████████████████▋      | 563kB 4.2MB/s eta 0:00:01\r\u001b[K     |██████████████████████████      | 573kB 4.2MB/s eta 0:00:01\r\u001b[K     |██████████████████████████▌     | 583kB 4.2MB/s eta 0:00:01\r\u001b[K     |███████████████████████████     | 593kB 4.2MB/s eta 0:00:01\r\u001b[K     |███████████████████████████▌    | 604kB 4.2MB/s eta 0:00:01\r\u001b[K     |████████████████████████████    | 614kB 4.2MB/s eta 0:00:01\r\u001b[K     |████████████████████████████▍   | 624kB 4.2MB/s eta 0:00:01\r\u001b[K     |████████████████████████████▉   | 634kB 4.2MB/s eta 0:00:01\r\u001b[K     |█████████████████████████████▍  | 645kB 4.2MB/s eta 0:00:01\r\u001b[K     |█████████████████████████████▉  | 655kB 4.2MB/s eta 0:00:01\r\u001b[K     |██████████████████████████████▎ | 665kB 4.2MB/s eta 0:00:01\r\u001b[K     |██████████████████████████████▊ | 675kB 4.2MB/s eta 0:00:01\r\u001b[K     |███████████████████████████████▏| 686kB 4.2MB/s eta 0:00:01\r\u001b[K     |███████████████████████████████▊| 696kB 4.2MB/s eta 0:00:01\r\u001b[K     |████████████████████████████████| 706kB 4.2MB/s \n",
            "\u001b[?25hRequirement already satisfied, skipping upgrade: typeguard>=2.7 in /usr/local/lib/python3.6/dist-packages (from tensorflow-addons) (2.7.1)\n",
            "Installing collected packages: tensorflow-addons\n",
            "  Found existing installation: tensorflow-addons 0.8.3\n",
            "    Uninstalling tensorflow-addons-0.8.3:\n",
            "      Successfully uninstalled tensorflow-addons-0.8.3\n",
            "Successfully installed tensorflow-addons-0.12.0\n"
          ],
          "name": "stdout"
        },
        {
          "output_type": "display_data",
          "data": {
            "application/vnd.colab-display-data+json": {
              "pip_warning": {
                "packages": [
                  "tensorflow_addons"
                ]
              }
            }
          },
          "metadata": {
            "tags": []
          }
        }
      ]
    },
    {
      "cell_type": "code",
      "metadata": {
        "id": "qI_PCt-8pDWu"
      },
      "source": [
        ""
      ],
      "execution_count": null,
      "outputs": []
    }
  ]
}