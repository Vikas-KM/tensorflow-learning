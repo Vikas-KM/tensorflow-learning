{
  "nbformat": 4,
  "nbformat_minor": 0,
  "metadata": {
    "colab": {
      "name": "cnn.ipynb",
      "provenance": [],
      "authorship_tag": "ABX9TyNHHKNRvUMv95GnbCnudEan",
      "include_colab_link": true
    },
    "kernelspec": {
      "name": "python3",
      "display_name": "Python 3"
    },
    "accelerator": "GPU"
  },
  "cells": [
    {
      "cell_type": "markdown",
      "metadata": {
        "id": "view-in-github",
        "colab_type": "text"
      },
      "source": [
        "<a href=\"https://colab.research.google.com/github/Vikas-KM/tensorflow-learning/blob/master/cnn-cifar20.ipynb\" target=\"_parent\"><img src=\"https://colab.research.google.com/assets/colab-badge.svg\" alt=\"Open In Colab\"/></a>"
      ]
    },
    {
      "cell_type": "code",
      "metadata": {
        "id": "YK7xusS0KzSp"
      },
      "source": [
        "import os\r\n",
        "import tensorflow as tf\r\n",
        "from tensorflow import keras\r\n",
        "from tensorflow.keras import layers, regularizers\r\n",
        "from tensorflow.keras.datasets import cifar10\r\n",
        "\r\n",
        "os.environ['TF_CPP_MIN_LOG_LEVEL']='2'"
      ],
      "execution_count": 33,
      "outputs": []
    },
    {
      "cell_type": "code",
      "metadata": {
        "id": "kYci3pq_K7WA"
      },
      "source": [
        "# load the dataset\r\n",
        "(X_train, y_train),(X_test, y_test) = cifar10.load_data()"
      ],
      "execution_count": 34,
      "outputs": []
    },
    {
      "cell_type": "code",
      "metadata": {
        "id": "HlBL7p01t2zt"
      },
      "source": [
        "# convert to float32 and normalize the data\r\n",
        "X_train = X_train.astype('float32')/255.0 \r\n",
        "X_test = X_test.astype('float32')/255.0"
      ],
      "execution_count": 35,
      "outputs": []
    },
    {
      "cell_type": "code",
      "metadata": {
        "id": "z4du0QNTuLL6"
      },
      "source": [
        "# Sequential\r\n",
        "model = keras.Sequential(\r\n",
        "    [\r\n",
        "     keras.Input(shape=(32,32,3)),\r\n",
        "     layers.Conv2D(32, 3, padding='valid', activation='relu'),\r\n",
        "     layers.MaxPooling2D(pool_size=(2,2)),\r\n",
        "     layers.Conv2D(64,3, activation='relu'),\r\n",
        "     layers.MaxPooling2D(),\r\n",
        "     layers.Conv2D(128,3, activation='relu'),\r\n",
        "     layers.Flatten(),\r\n",
        "     layers.Dense(64, activation='relu'),\r\n",
        "     layers.Dense(10),\r\n",
        "    ]\r\n",
        ")"
      ],
      "execution_count": 36,
      "outputs": []
    },
    {
      "cell_type": "code",
      "metadata": {
        "colab": {
          "base_uri": "https://localhost:8080/"
        },
        "id": "5tdNjNGGwD3Z",
        "outputId": "14c6625a-c277-4053-a3e2-87dbad035ee8"
      },
      "source": [
        "print(model.summary())"
      ],
      "execution_count": 37,
      "outputs": [
        {
          "output_type": "stream",
          "text": [
            "Model: \"sequential\"\n",
            "_________________________________________________________________\n",
            "Layer (type)                 Output Shape              Param #   \n",
            "=================================================================\n",
            "conv2d_12 (Conv2D)           (None, 30, 30, 32)        896       \n",
            "_________________________________________________________________\n",
            "max_pooling2d_5 (MaxPooling2 (None, 15, 15, 32)        0         \n",
            "_________________________________________________________________\n",
            "conv2d_13 (Conv2D)           (None, 13, 13, 64)        18496     \n",
            "_________________________________________________________________\n",
            "max_pooling2d_6 (MaxPooling2 (None, 6, 6, 64)          0         \n",
            "_________________________________________________________________\n",
            "conv2d_14 (Conv2D)           (None, 4, 4, 128)         73856     \n",
            "_________________________________________________________________\n",
            "flatten_4 (Flatten)          (None, 2048)              0         \n",
            "_________________________________________________________________\n",
            "dense_8 (Dense)              (None, 64)                131136    \n",
            "_________________________________________________________________\n",
            "dense_9 (Dense)              (None, 10)                650       \n",
            "=================================================================\n",
            "Total params: 225,034\n",
            "Trainable params: 225,034\n",
            "Non-trainable params: 0\n",
            "_________________________________________________________________\n",
            "None\n"
          ],
          "name": "stdout"
        }
      ]
    },
    {
      "cell_type": "code",
      "metadata": {
        "id": "0d-TkRiGwFtv"
      },
      "source": [
        "model.compile(\r\n",
        "    loss = keras.losses.SparseCategoricalCrossentropy(from_logits=True),\r\n",
        "    optimizer = keras.optimizers.Adam(learning_rate=3e-4),\r\n",
        "    metrics = ['accuracy']\r\n",
        ")"
      ],
      "execution_count": 38,
      "outputs": []
    },
    {
      "cell_type": "code",
      "metadata": {
        "colab": {
          "base_uri": "https://localhost:8080/"
        },
        "id": "jSwf7A9IxcUx",
        "outputId": "8b80bb5b-a81c-4d9b-d9dc-37836b268e57"
      },
      "source": [
        "model.fit(X_train, y_train, batch_size=64, epochs=10, verbose=2)"
      ],
      "execution_count": 39,
      "outputs": [
        {
          "output_type": "stream",
          "text": [
            "Epoch 1/10\n",
            "782/782 - 2s - loss: 1.6749 - accuracy: 0.3928\n",
            "Epoch 2/10\n",
            "782/782 - 2s - loss: 1.3509 - accuracy: 0.5205\n",
            "Epoch 3/10\n",
            "782/782 - 2s - loss: 1.2291 - accuracy: 0.5665\n",
            "Epoch 4/10\n",
            "782/782 - 2s - loss: 1.1373 - accuracy: 0.6000\n",
            "Epoch 5/10\n",
            "782/782 - 2s - loss: 1.0568 - accuracy: 0.6309\n",
            "Epoch 6/10\n",
            "782/782 - 2s - loss: 0.9856 - accuracy: 0.6570\n",
            "Epoch 7/10\n",
            "782/782 - 2s - loss: 0.9335 - accuracy: 0.6752\n",
            "Epoch 8/10\n",
            "782/782 - 2s - loss: 0.8863 - accuracy: 0.6932\n",
            "Epoch 9/10\n",
            "782/782 - 2s - loss: 0.8416 - accuracy: 0.7110\n",
            "Epoch 10/10\n",
            "782/782 - 2s - loss: 0.7996 - accuracy: 0.7231\n"
          ],
          "name": "stdout"
        },
        {
          "output_type": "execute_result",
          "data": {
            "text/plain": [
              "<tensorflow.python.keras.callbacks.History at 0x7f89557d3710>"
            ]
          },
          "metadata": {
            "tags": []
          },
          "execution_count": 39
        }
      ]
    },
    {
      "cell_type": "code",
      "metadata": {
        "colab": {
          "base_uri": "https://localhost:8080/"
        },
        "id": "DrtIjAK2xf-j",
        "outputId": "013985d4-6f79-4017-ecb9-56152662480a"
      },
      "source": [
        "model.evaluate(X_test, y_test, batch_size=64, verbose=2)"
      ],
      "execution_count": 40,
      "outputs": [
        {
          "output_type": "stream",
          "text": [
            "157/157 - 0s - loss: 0.8906 - accuracy: 0.6913\n"
          ],
          "name": "stdout"
        },
        {
          "output_type": "execute_result",
          "data": {
            "text/plain": [
              "[0.8905830979347229, 0.6912999749183655]"
            ]
          },
          "metadata": {
            "tags": []
          },
          "execution_count": 40
        }
      ]
    },
    {
      "cell_type": "markdown",
      "metadata": {
        "id": "VRQbGHhHoO66"
      },
      "source": [
        "### Functional with regularization and dropout added"
      ]
    },
    {
      "cell_type": "code",
      "metadata": {
        "id": "26YPEkIa0CeD"
      },
      "source": [
        "# Functional\r\n",
        "def my_model():\r\n",
        "  inputs = keras.Input(shape=(32,32,3))\r\n",
        "  x = layers.Conv2D(32,3, padding='same', kernel_regularizer=regularizers.l2(0.01))(inputs)\r\n",
        "  x = layers.BatchNormalization()(x)\r\n",
        "  x = keras.activations.relu(x)\r\n",
        "  x = layers.MaxPooling2D()(x)\r\n",
        "  x = layers.Conv2D(64,3, padding='same', kernel_regularizer = regularizers.l2(0.01))(x)\r\n",
        "  x = layers.BatchNormalization()(x)\r\n",
        "  x = keras.activations.relu(x)\r\n",
        "  x = layers.MaxPooling2D()(x)\r\n",
        "  x = layers.Conv2D(128,3, padding='same', kernel_regularizer = regularizers.l2(0.01))(x)\r\n",
        "  x = layers.BatchNormalization()(x)\r\n",
        "  x = keras.activations.relu(x)\r\n",
        "  x = layers.Flatten()(x)\r\n",
        "  x = layers.Dense(64, activation='relu', kernel_regularizer = regularizers.l2(0.01))(x)\r\n",
        "  x = layers.Dropout(0.5)(x)\r\n",
        "  outputs = layers.Dense(10)(x)\r\n",
        "  model = keras.Model(inputs=inputs, outputs=outputs)\r\n",
        "  return model\r\n"
      ],
      "execution_count": 27,
      "outputs": []
    },
    {
      "cell_type": "code",
      "metadata": {
        "id": "5a4klQar1fLH"
      },
      "source": [
        "model = my_model()"
      ],
      "execution_count": 28,
      "outputs": []
    },
    {
      "cell_type": "code",
      "metadata": {
        "colab": {
          "base_uri": "https://localhost:8080/"
        },
        "id": "m3DQAZ5V3Q_C",
        "outputId": "0f683218-683e-4b03-a136-567448220c2c"
      },
      "source": [
        "print(model.summary())"
      ],
      "execution_count": 29,
      "outputs": [
        {
          "output_type": "stream",
          "text": [
            "Model: \"model_3\"\n",
            "_________________________________________________________________\n",
            "Layer (type)                 Output Shape              Param #   \n",
            "=================================================================\n",
            "input_4 (InputLayer)         [(None, 32, 32, 3)]       0         \n",
            "_________________________________________________________________\n",
            "conv2d_9 (Conv2D)            (None, 32, 32, 32)        896       \n",
            "_________________________________________________________________\n",
            "batch_normalization_9 (Batch (None, 32, 32, 32)        128       \n",
            "_________________________________________________________________\n",
            "tf.nn.relu_9 (TFOpLambda)    (None, 32, 32, 32)        0         \n",
            "_________________________________________________________________\n",
            "max_pooling2d_3 (MaxPooling2 (None, 16, 16, 32)        0         \n",
            "_________________________________________________________________\n",
            "conv2d_10 (Conv2D)           (None, 16, 16, 64)        18496     \n",
            "_________________________________________________________________\n",
            "batch_normalization_10 (Batc (None, 16, 16, 64)        256       \n",
            "_________________________________________________________________\n",
            "tf.nn.relu_10 (TFOpLambda)   (None, 16, 16, 64)        0         \n",
            "_________________________________________________________________\n",
            "max_pooling2d_4 (MaxPooling2 (None, 8, 8, 64)          0         \n",
            "_________________________________________________________________\n",
            "conv2d_11 (Conv2D)           (None, 8, 8, 128)         73856     \n",
            "_________________________________________________________________\n",
            "batch_normalization_11 (Batc (None, 8, 8, 128)         512       \n",
            "_________________________________________________________________\n",
            "tf.nn.relu_11 (TFOpLambda)   (None, 8, 8, 128)         0         \n",
            "_________________________________________________________________\n",
            "flatten_3 (Flatten)          (None, 8192)              0         \n",
            "_________________________________________________________________\n",
            "dense_6 (Dense)              (None, 64)                524352    \n",
            "_________________________________________________________________\n",
            "dropout_3 (Dropout)          (None, 64)                0         \n",
            "_________________________________________________________________\n",
            "dense_7 (Dense)              (None, 10)                650       \n",
            "=================================================================\n",
            "Total params: 619,146\n",
            "Trainable params: 618,698\n",
            "Non-trainable params: 448\n",
            "_________________________________________________________________\n",
            "None\n"
          ],
          "name": "stdout"
        }
      ]
    },
    {
      "cell_type": "code",
      "metadata": {
        "id": "2ag-b3BW2AQE"
      },
      "source": [
        "model.compile(\r\n",
        "    loss = keras.losses.SparseCategoricalCrossentropy(from_logits=True),\r\n",
        "    optimizer = keras.optimizers.Adam(learning_rate=3e-4),\r\n",
        "    metrics=['accuracy'],\r\n",
        ")"
      ],
      "execution_count": 30,
      "outputs": []
    },
    {
      "cell_type": "code",
      "metadata": {
        "colab": {
          "base_uri": "https://localhost:8080/"
        },
        "id": "LtSEAva82dp1",
        "outputId": "d045aeb9-61c3-4c08-a63e-c847a6b29786"
      },
      "source": [
        "model.fit(X_train, y_train, batch_size=64, epochs=50, verbose=2)"
      ],
      "execution_count": 31,
      "outputs": [
        {
          "output_type": "stream",
          "text": [
            "Epoch 1/50\n",
            "782/782 - 3s - loss: 3.0873 - accuracy: 0.3459\n",
            "Epoch 2/50\n",
            "782/782 - 3s - loss: 1.9522 - accuracy: 0.4683\n",
            "Epoch 3/50\n",
            "782/782 - 3s - loss: 1.6423 - accuracy: 0.5228\n",
            "Epoch 4/50\n",
            "782/782 - 3s - loss: 1.5097 - accuracy: 0.5500\n",
            "Epoch 5/50\n",
            "782/782 - 3s - loss: 1.4366 - accuracy: 0.5741\n",
            "Epoch 6/50\n",
            "782/782 - 3s - loss: 1.3873 - accuracy: 0.5870\n",
            "Epoch 7/50\n",
            "782/782 - 3s - loss: 1.3511 - accuracy: 0.6017\n",
            "Epoch 8/50\n",
            "782/782 - 3s - loss: 1.3223 - accuracy: 0.6094\n",
            "Epoch 9/50\n",
            "782/782 - 3s - loss: 1.3090 - accuracy: 0.6163\n",
            "Epoch 10/50\n",
            "782/782 - 3s - loss: 1.2795 - accuracy: 0.6251\n",
            "Epoch 11/50\n",
            "782/782 - 3s - loss: 1.2658 - accuracy: 0.6304\n",
            "Epoch 12/50\n",
            "782/782 - 3s - loss: 1.2597 - accuracy: 0.6365\n",
            "Epoch 13/50\n",
            "782/782 - 3s - loss: 1.2437 - accuracy: 0.6400\n",
            "Epoch 14/50\n",
            "782/782 - 3s - loss: 1.2296 - accuracy: 0.6474\n",
            "Epoch 15/50\n",
            "782/782 - 3s - loss: 1.2183 - accuracy: 0.6520\n",
            "Epoch 16/50\n",
            "782/782 - 3s - loss: 1.2103 - accuracy: 0.6565\n",
            "Epoch 17/50\n",
            "782/782 - 3s - loss: 1.1966 - accuracy: 0.6616\n",
            "Epoch 18/50\n",
            "782/782 - 3s - loss: 1.1859 - accuracy: 0.6700\n",
            "Epoch 19/50\n",
            "782/782 - 3s - loss: 1.1728 - accuracy: 0.6695\n",
            "Epoch 20/50\n",
            "782/782 - 3s - loss: 1.1737 - accuracy: 0.6723\n",
            "Epoch 21/50\n",
            "782/782 - 3s - loss: 1.1620 - accuracy: 0.6751\n",
            "Epoch 22/50\n",
            "782/782 - 3s - loss: 1.1536 - accuracy: 0.6788\n",
            "Epoch 23/50\n",
            "782/782 - 3s - loss: 1.1493 - accuracy: 0.6841\n",
            "Epoch 24/50\n",
            "782/782 - 3s - loss: 1.1398 - accuracy: 0.6888\n",
            "Epoch 25/50\n",
            "782/782 - 3s - loss: 1.1305 - accuracy: 0.6927\n",
            "Epoch 26/50\n",
            "782/782 - 3s - loss: 1.1256 - accuracy: 0.6949\n",
            "Epoch 27/50\n",
            "782/782 - 3s - loss: 1.1208 - accuracy: 0.6952\n",
            "Epoch 28/50\n",
            "782/782 - 3s - loss: 1.1111 - accuracy: 0.7003\n",
            "Epoch 29/50\n",
            "782/782 - 3s - loss: 1.1095 - accuracy: 0.7023\n",
            "Epoch 30/50\n",
            "782/782 - 3s - loss: 1.1001 - accuracy: 0.7060\n",
            "Epoch 31/50\n",
            "782/782 - 3s - loss: 1.0966 - accuracy: 0.7097\n",
            "Epoch 32/50\n",
            "782/782 - 3s - loss: 1.0898 - accuracy: 0.7094\n",
            "Epoch 33/50\n",
            "782/782 - 3s - loss: 1.0769 - accuracy: 0.7156\n",
            "Epoch 34/50\n",
            "782/782 - 3s - loss: 1.0768 - accuracy: 0.7158\n",
            "Epoch 35/50\n",
            "782/782 - 3s - loss: 1.0629 - accuracy: 0.7233\n",
            "Epoch 36/50\n",
            "782/782 - 3s - loss: 1.0665 - accuracy: 0.7196\n",
            "Epoch 37/50\n",
            "782/782 - 3s - loss: 1.0611 - accuracy: 0.7259\n",
            "Epoch 38/50\n",
            "782/782 - 3s - loss: 1.0600 - accuracy: 0.7242\n",
            "Epoch 39/50\n",
            "782/782 - 3s - loss: 1.0550 - accuracy: 0.7272\n",
            "Epoch 40/50\n",
            "782/782 - 3s - loss: 1.0504 - accuracy: 0.7267\n",
            "Epoch 41/50\n",
            "782/782 - 3s - loss: 1.0484 - accuracy: 0.7292\n",
            "Epoch 42/50\n",
            "782/782 - 3s - loss: 1.0530 - accuracy: 0.7281\n",
            "Epoch 43/50\n",
            "782/782 - 3s - loss: 1.0336 - accuracy: 0.7347\n",
            "Epoch 44/50\n",
            "782/782 - 3s - loss: 1.0321 - accuracy: 0.7402\n",
            "Epoch 45/50\n",
            "782/782 - 3s - loss: 1.0317 - accuracy: 0.7368\n",
            "Epoch 46/50\n",
            "782/782 - 3s - loss: 1.0253 - accuracy: 0.7387\n",
            "Epoch 47/50\n",
            "782/782 - 3s - loss: 1.0234 - accuracy: 0.7411\n",
            "Epoch 48/50\n",
            "782/782 - 3s - loss: 1.0204 - accuracy: 0.7421\n",
            "Epoch 49/50\n",
            "782/782 - 3s - loss: 1.0197 - accuracy: 0.7437\n",
            "Epoch 50/50\n",
            "782/782 - 3s - loss: 1.0175 - accuracy: 0.7422\n"
          ],
          "name": "stdout"
        },
        {
          "output_type": "execute_result",
          "data": {
            "text/plain": [
              "<tensorflow.python.keras.callbacks.History at 0x7f895e106358>"
            ]
          },
          "metadata": {
            "tags": []
          },
          "execution_count": 31
        }
      ]
    },
    {
      "cell_type": "code",
      "metadata": {
        "colab": {
          "base_uri": "https://localhost:8080/"
        },
        "id": "XyGhzJH92ljF",
        "outputId": "01b7403a-50d2-4aa5-d913-4a78e2a0b25b"
      },
      "source": [
        "model.evaluate(X_test, y_test, batch_size=64, verbose=2)"
      ],
      "execution_count": 32,
      "outputs": [
        {
          "output_type": "stream",
          "text": [
            "157/157 - 1s - loss: 1.4140 - accuracy: 0.6276\n"
          ],
          "name": "stdout"
        },
        {
          "output_type": "execute_result",
          "data": {
            "text/plain": [
              "[1.4140430688858032, 0.6276000142097473]"
            ]
          },
          "metadata": {
            "tags": []
          },
          "execution_count": 32
        }
      ]
    },
    {
      "cell_type": "code",
      "metadata": {
        "id": "GqMskdJH2qM_"
      },
      "source": [
        ""
      ],
      "execution_count": null,
      "outputs": []
    }
  ]
}