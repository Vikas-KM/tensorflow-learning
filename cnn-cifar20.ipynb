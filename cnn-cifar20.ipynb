{
  "nbformat": 4,
  "nbformat_minor": 0,
  "metadata": {
    "colab": {
      "name": "cnn.ipynb",
      "provenance": [],
      "authorship_tag": "ABX9TyOaiCHvRhm8h1wS6RnUVz7D",
      "include_colab_link": true
    },
    "kernelspec": {
      "name": "python3",
      "display_name": "Python 3"
    }
  },
  "cells": [
    {
      "cell_type": "markdown",
      "metadata": {
        "id": "view-in-github",
        "colab_type": "text"
      },
      "source": [
        "<a href=\"https://colab.research.google.com/github/Vikas-KM/tensorflow-learning/blob/master/cnn-cifar20.ipynb\" target=\"_parent\"><img src=\"https://colab.research.google.com/assets/colab-badge.svg\" alt=\"Open In Colab\"/></a>"
      ]
    },
    {
      "cell_type": "code",
      "metadata": {
        "id": "YK7xusS0KzSp"
      },
      "source": [
        "import os\r\n",
        "import tensorflow as tf\r\n",
        "from tensorflow import keras\r\n",
        "from tensorflow.keras import layers\r\n",
        "from tensorflow.keras.datasets import cifar10\r\n",
        "\r\n",
        "os.environ['TF_CPP_MIN_LOG_LEVEL']='2'"
      ],
      "execution_count": 3,
      "outputs": []
    },
    {
      "cell_type": "code",
      "metadata": {
        "colab": {
          "base_uri": "https://localhost:8080/"
        },
        "id": "kYci3pq_K7WA",
        "outputId": "965c964f-49d2-442c-9e02-33c7d98db882"
      },
      "source": [
        "# load the dataset\r\n",
        "(X_train, y_train),(X_test, y_test) = cifar10.load_data()"
      ],
      "execution_count": 4,
      "outputs": [
        {
          "output_type": "stream",
          "text": [
            "Downloading data from https://www.cs.toronto.edu/~kriz/cifar-10-python.tar.gz\n",
            "170500096/170498071 [==============================] - 2s 0us/step\n"
          ],
          "name": "stdout"
        }
      ]
    },
    {
      "cell_type": "code",
      "metadata": {
        "id": "HlBL7p01t2zt"
      },
      "source": [
        "# convert to float32 and normalize the data\r\n",
        "X_train = X_train.astype('float32')/255.0 \r\n",
        "X_test = X_test.astype('float32')/255.0"
      ],
      "execution_count": 11,
      "outputs": []
    },
    {
      "cell_type": "code",
      "metadata": {
        "id": "z4du0QNTuLL6"
      },
      "source": [
        "# Sequential\r\n",
        "model = keras.Sequential(\r\n",
        "    [\r\n",
        "     keras.Input(shape=(32,32,3)),\r\n",
        "     layers.Conv2D(32, 3, padding='valid', activation='relu'),\r\n",
        "     layers.MaxPooling2D(pool_size=(2,2)),\r\n",
        "     layers.Conv2D(64,3, activation='relu'),\r\n",
        "     layers.MaxPooling2D(),\r\n",
        "     layers.Conv2D(128,3, activation='relu'),\r\n",
        "     layers.Flatten(),\r\n",
        "     layers.Dense(64, activation='relu'),\r\n",
        "     layers.Dense(10),\r\n",
        "    ]\r\n",
        ")"
      ],
      "execution_count": 20,
      "outputs": []
    },
    {
      "cell_type": "code",
      "metadata": {
        "colab": {
          "base_uri": "https://localhost:8080/"
        },
        "id": "5tdNjNGGwD3Z",
        "outputId": "e859b7df-62d3-4a62-e98e-1ab4b61b5f3a"
      },
      "source": [
        "print(model.summary())"
      ],
      "execution_count": 21,
      "outputs": [
        {
          "output_type": "stream",
          "text": [
            "Model: \"sequential_2\"\n",
            "_________________________________________________________________\n",
            "Layer (type)                 Output Shape              Param #   \n",
            "=================================================================\n",
            "conv2d_4 (Conv2D)            (None, 30, 30, 32)        896       \n",
            "_________________________________________________________________\n",
            "max_pooling2d_3 (MaxPooling2 (None, 15, 15, 32)        0         \n",
            "_________________________________________________________________\n",
            "conv2d_5 (Conv2D)            (None, 13, 13, 64)        18496     \n",
            "_________________________________________________________________\n",
            "max_pooling2d_4 (MaxPooling2 (None, 6, 6, 64)          0         \n",
            "_________________________________________________________________\n",
            "conv2d_6 (Conv2D)            (None, 4, 4, 128)         73856     \n",
            "_________________________________________________________________\n",
            "flatten_1 (Flatten)          (None, 2048)              0         \n",
            "_________________________________________________________________\n",
            "dense_2 (Dense)              (None, 64)                131136    \n",
            "_________________________________________________________________\n",
            "dense_3 (Dense)              (None, 10)                650       \n",
            "=================================================================\n",
            "Total params: 225,034\n",
            "Trainable params: 225,034\n",
            "Non-trainable params: 0\n",
            "_________________________________________________________________\n",
            "None\n"
          ],
          "name": "stdout"
        }
      ]
    },
    {
      "cell_type": "code",
      "metadata": {
        "id": "0d-TkRiGwFtv"
      },
      "source": [
        "model.compile(\r\n",
        "    loss = keras.losses.SparseCategoricalCrossentropy(from_logits=True),\r\n",
        "    optimizer = keras.optimizers.Adam(learning_rate=3e-4),\r\n",
        "    metrics = ['accuracy']\r\n",
        ")"
      ],
      "execution_count": 22,
      "outputs": []
    },
    {
      "cell_type": "code",
      "metadata": {
        "colab": {
          "base_uri": "https://localhost:8080/"
        },
        "id": "jSwf7A9IxcUx",
        "outputId": "2fc61893-b2f3-4072-c501-9fc2b63963d1"
      },
      "source": [
        "model.fit(X_train, y_train, batch_size=64, epochs=10, verbose=2)"
      ],
      "execution_count": 23,
      "outputs": [
        {
          "output_type": "stream",
          "text": [
            "Epoch 1/10\n",
            "782/782 - 60s - loss: 1.7090 - accuracy: 0.3774\n",
            "Epoch 2/10\n",
            "782/782 - 59s - loss: 1.3590 - accuracy: 0.5145\n",
            "Epoch 3/10\n",
            "782/782 - 59s - loss: 1.2483 - accuracy: 0.5606\n",
            "Epoch 4/10\n",
            "782/782 - 59s - loss: 1.1516 - accuracy: 0.5997\n",
            "Epoch 5/10\n",
            "782/782 - 59s - loss: 1.0818 - accuracy: 0.6227\n",
            "Epoch 6/10\n",
            "782/782 - 59s - loss: 1.0193 - accuracy: 0.6470\n",
            "Epoch 7/10\n",
            "782/782 - 58s - loss: 0.9681 - accuracy: 0.6642\n",
            "Epoch 8/10\n",
            "782/782 - 58s - loss: 0.9188 - accuracy: 0.6823\n",
            "Epoch 9/10\n",
            "782/782 - 59s - loss: 0.8788 - accuracy: 0.6966\n",
            "Epoch 10/10\n",
            "782/782 - 58s - loss: 0.8423 - accuracy: 0.7086\n"
          ],
          "name": "stdout"
        },
        {
          "output_type": "execute_result",
          "data": {
            "text/plain": [
              "<tensorflow.python.keras.callbacks.History at 0x7fd5fbe5a1d0>"
            ]
          },
          "metadata": {
            "tags": []
          },
          "execution_count": 23
        }
      ]
    },
    {
      "cell_type": "code",
      "metadata": {
        "colab": {
          "base_uri": "https://localhost:8080/"
        },
        "id": "DrtIjAK2xf-j",
        "outputId": "4f4883a6-6160-4b36-a704-462934d4534f"
      },
      "source": [
        "model.evaluate(X_test, y_test, batch_size=64, verbose=2)"
      ],
      "execution_count": 24,
      "outputs": [
        {
          "output_type": "stream",
          "text": [
            "157/157 - 3s - loss: 0.9447 - accuracy: 0.6748\n"
          ],
          "name": "stdout"
        },
        {
          "output_type": "execute_result",
          "data": {
            "text/plain": [
              "[0.9447250962257385, 0.6747999787330627]"
            ]
          },
          "metadata": {
            "tags": []
          },
          "execution_count": 24
        }
      ]
    },
    {
      "cell_type": "code",
      "metadata": {
        "id": "26YPEkIa0CeD"
      },
      "source": [
        "# Functional\r\n",
        "def my_model():\r\n",
        "  inputs = keras.Input(shape=(32,32,3))\r\n",
        "  x = layers.Conv2D(32,3)(inputs)\r\n",
        "  x = layers.BatchNormalization()(x)\r\n",
        "  x = keras.activations.relu(x)\r\n",
        "  x = layers.MaxPooling2D()(x)\r\n",
        "  x = layers.Conv2D(64,5, padding='same')(x)\r\n",
        "  x = layers.BatchNormalization()(x)\r\n",
        "  x = keras.activations.relu(x)\r\n",
        "  x = layers.Conv2D(128,3)(x)\r\n",
        "  x = layers.BatchNormalization()(x)\r\n",
        "  x = keras.activations.relu(x)\r\n",
        "  x = layers.Flatten()(x)\r\n",
        "  x = layers.Dense(64, activation='relu')(x)\r\n",
        "  outputs = layers.Dense(10)(x)\r\n",
        "  model = keras.Model(inputs=inputs, outputs=outputs)\r\n",
        "  return model\r\n"
      ],
      "execution_count": 32,
      "outputs": []
    },
    {
      "cell_type": "code",
      "metadata": {
        "id": "5a4klQar1fLH"
      },
      "source": [
        "model = my_model()"
      ],
      "execution_count": 33,
      "outputs": []
    },
    {
      "cell_type": "code",
      "metadata": {
        "colab": {
          "base_uri": "https://localhost:8080/"
        },
        "id": "m3DQAZ5V3Q_C",
        "outputId": "aa56e037-dad0-412e-d808-1ec408fb6b1e"
      },
      "source": [
        "print(model.summary())"
      ],
      "execution_count": 37,
      "outputs": [
        {
          "output_type": "stream",
          "text": [
            "Model: \"model_1\"\n",
            "_________________________________________________________________\n",
            "Layer (type)                 Output Shape              Param #   \n",
            "=================================================================\n",
            "input_6 (InputLayer)         [(None, 32, 32, 3)]       0         \n",
            "_________________________________________________________________\n",
            "conv2d_12 (Conv2D)           (None, 30, 30, 32)        896       \n",
            "_________________________________________________________________\n",
            "batch_normalization_5 (Batch (None, 30, 30, 32)        128       \n",
            "_________________________________________________________________\n",
            "tf.nn.relu_5 (TFOpLambda)    (None, 30, 30, 32)        0         \n",
            "_________________________________________________________________\n",
            "max_pooling2d_7 (MaxPooling2 (None, 15, 15, 32)        0         \n",
            "_________________________________________________________________\n",
            "conv2d_13 (Conv2D)           (None, 15, 15, 64)        51264     \n",
            "_________________________________________________________________\n",
            "batch_normalization_6 (Batch (None, 15, 15, 64)        256       \n",
            "_________________________________________________________________\n",
            "tf.nn.relu_6 (TFOpLambda)    (None, 15, 15, 64)        0         \n",
            "_________________________________________________________________\n",
            "conv2d_14 (Conv2D)           (None, 13, 13, 128)       73856     \n",
            "_________________________________________________________________\n",
            "batch_normalization_7 (Batch (None, 13, 13, 128)       512       \n",
            "_________________________________________________________________\n",
            "tf.nn.relu_7 (TFOpLambda)    (None, 13, 13, 128)       0         \n",
            "_________________________________________________________________\n",
            "flatten_3 (Flatten)          (None, 21632)             0         \n",
            "_________________________________________________________________\n",
            "dense_6 (Dense)              (None, 64)                1384512   \n",
            "_________________________________________________________________\n",
            "dense_7 (Dense)              (None, 10)                650       \n",
            "=================================================================\n",
            "Total params: 1,512,074\n",
            "Trainable params: 1,511,626\n",
            "Non-trainable params: 448\n",
            "_________________________________________________________________\n",
            "None\n"
          ],
          "name": "stdout"
        }
      ]
    },
    {
      "cell_type": "code",
      "metadata": {
        "id": "2ag-b3BW2AQE"
      },
      "source": [
        "model.compile(\r\n",
        "    loss = keras.losses.SparseCategoricalCrossentropy(from_logits=True),\r\n",
        "    optimizer = keras.optimizers.Adam(learning_rate=3e-4),\r\n",
        "    metrics=['accuracy'],\r\n",
        ")"
      ],
      "execution_count": 34,
      "outputs": []
    },
    {
      "cell_type": "code",
      "metadata": {
        "colab": {
          "base_uri": "https://localhost:8080/"
        },
        "id": "LtSEAva82dp1",
        "outputId": "33884429-8a01-4138-f796-297505f8353c"
      },
      "source": [
        "model.fit(X_train, y_train, batch_size=64, epochs=10, verbose=2)"
      ],
      "execution_count": 35,
      "outputs": [
        {
          "output_type": "stream",
          "text": [
            "Epoch 1/10\n",
            "782/782 - 244s - loss: 1.3543 - accuracy: 0.5156\n",
            "Epoch 2/10\n",
            "782/782 - 243s - loss: 0.9270 - accuracy: 0.6710\n",
            "Epoch 3/10\n",
            "782/782 - 245s - loss: 0.7677 - accuracy: 0.7298\n",
            "Epoch 4/10\n",
            "782/782 - 241s - loss: 0.6535 - accuracy: 0.7670\n",
            "Epoch 5/10\n",
            "782/782 - 241s - loss: 0.5757 - accuracy: 0.7984\n",
            "Epoch 6/10\n",
            "782/782 - 244s - loss: 0.5021 - accuracy: 0.8236\n",
            "Epoch 7/10\n",
            "782/782 - 240s - loss: 0.4311 - accuracy: 0.8497\n",
            "Epoch 8/10\n",
            "782/782 - 242s - loss: 0.3701 - accuracy: 0.8708\n",
            "Epoch 9/10\n",
            "782/782 - 239s - loss: 0.3166 - accuracy: 0.8917\n",
            "Epoch 10/10\n",
            "782/782 - 239s - loss: 0.2637 - accuracy: 0.9095\n"
          ],
          "name": "stdout"
        },
        {
          "output_type": "execute_result",
          "data": {
            "text/plain": [
              "<tensorflow.python.keras.callbacks.History at 0x7fd5f82e35c0>"
            ]
          },
          "metadata": {
            "tags": []
          },
          "execution_count": 35
        }
      ]
    },
    {
      "cell_type": "code",
      "metadata": {
        "colab": {
          "base_uri": "https://localhost:8080/"
        },
        "id": "XyGhzJH92ljF",
        "outputId": "d1c33b63-c94e-4b81-a99e-c495d6c4394e"
      },
      "source": [
        "model.evaluate(X_test, y_test, batch_size=64, verbose=2)"
      ],
      "execution_count": 36,
      "outputs": [
        {
          "output_type": "stream",
          "text": [
            "157/157 - 12s - loss: 1.0833 - accuracy: 0.6864\n"
          ],
          "name": "stdout"
        },
        {
          "output_type": "execute_result",
          "data": {
            "text/plain": [
              "[1.0833382606506348, 0.6863999962806702]"
            ]
          },
          "metadata": {
            "tags": []
          },
          "execution_count": 36
        }
      ]
    },
    {
      "cell_type": "code",
      "metadata": {
        "id": "GqMskdJH2qM_"
      },
      "source": [
        ""
      ],
      "execution_count": null,
      "outputs": []
    }
  ]
}