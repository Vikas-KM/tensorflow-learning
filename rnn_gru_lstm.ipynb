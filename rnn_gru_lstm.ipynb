{
  "nbformat": 4,
  "nbformat_minor": 0,
  "metadata": {
    "colab": {
      "name": "rnn_gru_lstm.ipynb",
      "provenance": [],
      "authorship_tag": "ABX9TyPnN4Ma/Kot+EPaPrey09rf",
      "include_colab_link": true
    },
    "kernelspec": {
      "name": "python3",
      "display_name": "Python 3"
    },
    "accelerator": "GPU"
  },
  "cells": [
    {
      "cell_type": "markdown",
      "metadata": {
        "id": "view-in-github",
        "colab_type": "text"
      },
      "source": [
        "<a href=\"https://colab.research.google.com/github/Vikas-KM/tensorflow-learning/blob/master/rnn_gru_lstm.ipynb\" target=\"_parent\"><img src=\"https://colab.research.google.com/assets/colab-badge.svg\" alt=\"Open In Colab\"/></a>"
      ]
    },
    {
      "cell_type": "code",
      "metadata": {
        "id": "KXppgvwpC_I8"
      },
      "source": [
        "import tensorflow as tf\r\n",
        "from tensorflow import keras\r\n",
        "from tensorflow.keras import layers\r\n",
        "from tensorflow.keras.datasets import mnist\r\n",
        "\r\n",
        "import os\r\n",
        "os.environ['TF_CPP_MIN_LOG_LEVEL'] = '2'\r\n"
      ],
      "execution_count": 1,
      "outputs": []
    },
    {
      "cell_type": "code",
      "metadata": {
        "colab": {
          "base_uri": "https://localhost:8080/"
        },
        "id": "KVLJi3HrDbKZ",
        "outputId": "c42a88c9-ee47-4667-eb5f-ddd91ece060f"
      },
      "source": [
        "(x_train,y_train),(x_test, y_test) = mnist.load_data()"
      ],
      "execution_count": 2,
      "outputs": [
        {
          "output_type": "stream",
          "text": [
            "Downloading data from https://storage.googleapis.com/tensorflow/tf-keras-datasets/mnist.npz\n",
            "11493376/11490434 [==============================] - 0s 0us/step\n"
          ],
          "name": "stdout"
        }
      ]
    },
    {
      "cell_type": "code",
      "metadata": {
        "id": "kmg9O9NhDq8j"
      },
      "source": [
        "x_train = x_train.astype('float32')/255\r\n",
        "x_test = x_test.astype('float32')/255"
      ],
      "execution_count": 9,
      "outputs": []
    },
    {
      "cell_type": "markdown",
      "metadata": {
        "id": "TYiPgSc9Jufl"
      },
      "source": [
        "### RNN"
      ]
    },
    {
      "cell_type": "code",
      "metadata": {
        "id": "sqLCzTWqDxBI"
      },
      "source": [
        "model = tf.keras.Sequential(\r\n",
        "    [\r\n",
        "     keras.Input(shape=(None, 28)),\r\n",
        "     layers.SimpleRNN(256, return_sequences=True, activation='tanh'),\r\n",
        "     layers.SimpleRNN(256, activation='tanh'),\r\n",
        "     layers.Dense(10)\r\n",
        "    ]\r\n",
        ")"
      ],
      "execution_count": 15,
      "outputs": []
    },
    {
      "cell_type": "code",
      "metadata": {
        "colab": {
          "base_uri": "https://localhost:8080/"
        },
        "id": "r2RGPT64FtDd",
        "outputId": "49f2b671-f22c-4363-8dfd-94f6d8ae68c3"
      },
      "source": [
        "print(model.summary())"
      ],
      "execution_count": 16,
      "outputs": [
        {
          "output_type": "stream",
          "text": [
            "Model: \"sequential_1\"\n",
            "_________________________________________________________________\n",
            "Layer (type)                 Output Shape              Param #   \n",
            "=================================================================\n",
            "simple_rnn_2 (SimpleRNN)     (None, None, 256)         72960     \n",
            "_________________________________________________________________\n",
            "simple_rnn_3 (SimpleRNN)     (None, 256)               131328    \n",
            "_________________________________________________________________\n",
            "dense_1 (Dense)              (None, 10)                2570      \n",
            "=================================================================\n",
            "Total params: 206,858\n",
            "Trainable params: 206,858\n",
            "Non-trainable params: 0\n",
            "_________________________________________________________________\n",
            "None\n"
          ],
          "name": "stdout"
        }
      ]
    },
    {
      "cell_type": "code",
      "metadata": {
        "id": "x-O4kPDMFvrv"
      },
      "source": [
        "model.compile(\r\n",
        "    optimizer = keras.optimizers.Adam(learning_rate=0.001),\r\n",
        "    loss = keras.losses.SparseCategoricalCrossentropy(from_logits=True),\r\n",
        "    metrics=['accuracy'],\r\n",
        "\r\n",
        ")"
      ],
      "execution_count": 17,
      "outputs": []
    },
    {
      "cell_type": "code",
      "metadata": {
        "colab": {
          "base_uri": "https://localhost:8080/"
        },
        "id": "y5vuT9y_Gmkg",
        "outputId": "638f34d1-33b4-4287-d598-56871511492f"
      },
      "source": [
        "model.fit(x_train, y_train, epochs=10, batch_size=64, verbose=2)"
      ],
      "execution_count": 18,
      "outputs": [
        {
          "output_type": "stream",
          "text": [
            "Epoch 1/10\n",
            "938/938 - 31s - loss: 0.3009 - accuracy: 0.9083\n",
            "Epoch 2/10\n",
            "938/938 - 30s - loss: 0.1865 - accuracy: 0.9449\n",
            "Epoch 3/10\n",
            "938/938 - 30s - loss: 0.1655 - accuracy: 0.9519\n",
            "Epoch 4/10\n",
            "938/938 - 30s - loss: 0.1461 - accuracy: 0.9582\n",
            "Epoch 5/10\n",
            "938/938 - 30s - loss: 0.1547 - accuracy: 0.9561\n",
            "Epoch 6/10\n",
            "938/938 - 30s - loss: 0.1372 - accuracy: 0.9606\n",
            "Epoch 7/10\n",
            "938/938 - 30s - loss: 0.1280 - accuracy: 0.9627\n",
            "Epoch 8/10\n",
            "938/938 - 30s - loss: 0.1256 - accuracy: 0.9639\n",
            "Epoch 9/10\n",
            "938/938 - 30s - loss: 0.1619 - accuracy: 0.9525\n",
            "Epoch 10/10\n",
            "938/938 - 30s - loss: 0.1404 - accuracy: 0.9586\n"
          ],
          "name": "stdout"
        },
        {
          "output_type": "execute_result",
          "data": {
            "text/plain": [
              "<tensorflow.python.keras.callbacks.History at 0x7f1560348eb8>"
            ]
          },
          "metadata": {
            "tags": []
          },
          "execution_count": 18
        }
      ]
    },
    {
      "cell_type": "code",
      "metadata": {
        "colab": {
          "base_uri": "https://localhost:8080/"
        },
        "id": "jJrHbm93Gu0_",
        "outputId": "020e3386-4cee-4487-b8f8-264d71c06a30"
      },
      "source": [
        "model.evaluate(x_test, y_test, batch_size=64, verbose=2)"
      ],
      "execution_count": 14,
      "outputs": [
        {
          "output_type": "stream",
          "text": [
            "157/157 - 1s - loss: 0.0979 - accuracy: 0.9712\n"
          ],
          "name": "stdout"
        },
        {
          "output_type": "execute_result",
          "data": {
            "text/plain": [
              "[0.09789417684078217, 0.9711999893188477]"
            ]
          },
          "metadata": {
            "tags": []
          },
          "execution_count": 14
        }
      ]
    },
    {
      "cell_type": "markdown",
      "metadata": {
        "id": "DQGUMsrEIf-T"
      },
      "source": [
        "### GRU"
      ]
    },
    {
      "cell_type": "code",
      "metadata": {
        "id": "bj3ZM04jG6Mq"
      },
      "source": [
        "model = keras.Sequential(\r\n",
        "    [\r\n",
        "     keras.Input(shape=(None, 28)),\r\n",
        "     layers.GRU(256, return_sequences=True, activation='tanh'),\r\n",
        "     layers.GRU(256, activation='tanh'),\r\n",
        "     layers.Dense(10),\r\n",
        "    ]\r\n",
        ")"
      ],
      "execution_count": 21,
      "outputs": []
    },
    {
      "cell_type": "code",
      "metadata": {
        "colab": {
          "base_uri": "https://localhost:8080/"
        },
        "id": "gll007IoJFO-",
        "outputId": "f23eb6f2-a7a3-437e-d63d-073cadde01cf"
      },
      "source": [
        "print(model.summary())"
      ],
      "execution_count": 22,
      "outputs": [
        {
          "output_type": "stream",
          "text": [
            "Model: \"sequential_2\"\n",
            "_________________________________________________________________\n",
            "Layer (type)                 Output Shape              Param #   \n",
            "=================================================================\n",
            "gru (GRU)                    (None, None, 256)         219648    \n",
            "_________________________________________________________________\n",
            "gru_1 (GRU)                  (None, 256)               394752    \n",
            "_________________________________________________________________\n",
            "dense_2 (Dense)              (None, 10)                2570      \n",
            "=================================================================\n",
            "Total params: 616,970\n",
            "Trainable params: 616,970\n",
            "Non-trainable params: 0\n",
            "_________________________________________________________________\n",
            "None\n"
          ],
          "name": "stdout"
        }
      ]
    },
    {
      "cell_type": "code",
      "metadata": {
        "id": "SSZG6BEyJP8v"
      },
      "source": [
        "model.compile(\r\n",
        "    loss = keras.losses.SparseCategoricalCrossentropy(from_logits=True),\r\n",
        "    optimizer = keras.optimizers.Adam(learning_rate=0.001),\r\n",
        "    metrics=['accuracy'],\r\n",
        ")"
      ],
      "execution_count": 23,
      "outputs": []
    },
    {
      "cell_type": "code",
      "metadata": {
        "colab": {
          "base_uri": "https://localhost:8080/"
        },
        "id": "xWdStTapJdk8",
        "outputId": "0c5eac26-37e6-46e5-ce8d-1d3d131f507c"
      },
      "source": [
        "model.fit(x_train, y_train, batch_size=64, epochs=10, verbose=2)"
      ],
      "execution_count": 24,
      "outputs": [
        {
          "output_type": "stream",
          "text": [
            "Epoch 1/10\n",
            "938/938 - 12s - loss: 0.2698 - accuracy: 0.9107\n",
            "Epoch 2/10\n",
            "938/938 - 5s - loss: 0.0675 - accuracy: 0.9793\n",
            "Epoch 3/10\n",
            "938/938 - 5s - loss: 0.0471 - accuracy: 0.9858\n",
            "Epoch 4/10\n",
            "938/938 - 5s - loss: 0.0353 - accuracy: 0.9883\n",
            "Epoch 5/10\n",
            "938/938 - 5s - loss: 0.0303 - accuracy: 0.9902\n",
            "Epoch 6/10\n",
            "938/938 - 5s - loss: 0.0231 - accuracy: 0.9924\n",
            "Epoch 7/10\n",
            "938/938 - 5s - loss: 0.0227 - accuracy: 0.9924\n",
            "Epoch 8/10\n",
            "938/938 - 5s - loss: 0.0186 - accuracy: 0.9939\n",
            "Epoch 9/10\n",
            "938/938 - 5s - loss: 0.0161 - accuracy: 0.9948\n",
            "Epoch 10/10\n",
            "938/938 - 5s - loss: 0.0123 - accuracy: 0.9961\n"
          ],
          "name": "stdout"
        },
        {
          "output_type": "execute_result",
          "data": {
            "text/plain": [
              "<tensorflow.python.keras.callbacks.History at 0x7f15600979e8>"
            ]
          },
          "metadata": {
            "tags": []
          },
          "execution_count": 24
        }
      ]
    },
    {
      "cell_type": "code",
      "metadata": {
        "colab": {
          "base_uri": "https://localhost:8080/"
        },
        "id": "XJoQLHfmJjfL",
        "outputId": "b5adb9d4-9714-456c-8b51-f28e583ab85d"
      },
      "source": [
        "model.evaluate(x_test, y_test, batch_size=64, verbose=2)"
      ],
      "execution_count": 25,
      "outputs": [
        {
          "output_type": "stream",
          "text": [
            "157/157 - 1s - loss: 0.0422 - accuracy: 0.9888\n"
          ],
          "name": "stdout"
        },
        {
          "output_type": "execute_result",
          "data": {
            "text/plain": [
              "[0.042196646332740784, 0.9887999892234802]"
            ]
          },
          "metadata": {
            "tags": []
          },
          "execution_count": 25
        }
      ]
    },
    {
      "cell_type": "markdown",
      "metadata": {
        "id": "S4nX0abiJxoC"
      },
      "source": [
        "### LSTM"
      ]
    },
    {
      "cell_type": "code",
      "metadata": {
        "id": "Zm_Cz-ggJre7"
      },
      "source": [
        "model = keras.Sequential(\r\n",
        "    [\r\n",
        "     keras.Input(shape=(None, 28)),\r\n",
        "     layers.LSTM(256, return_sequences=True, activation='tanh'),\r\n",
        "     layers.LSTM(256, activation='tanh'),\r\n",
        "     layers.Dense(10)\r\n",
        "    ]\r\n",
        ")"
      ],
      "execution_count": 26,
      "outputs": []
    },
    {
      "cell_type": "code",
      "metadata": {
        "colab": {
          "base_uri": "https://localhost:8080/"
        },
        "id": "47Fn3Q3lKQ_H",
        "outputId": "5c8bfdfd-ee3a-4194-9b13-53092049b4a2"
      },
      "source": [
        "print(model.summary())"
      ],
      "execution_count": 27,
      "outputs": [
        {
          "output_type": "stream",
          "text": [
            "Model: \"sequential_3\"\n",
            "_________________________________________________________________\n",
            "Layer (type)                 Output Shape              Param #   \n",
            "=================================================================\n",
            "lstm (LSTM)                  (None, None, 256)         291840    \n",
            "_________________________________________________________________\n",
            "lstm_1 (LSTM)                (None, 256)               525312    \n",
            "_________________________________________________________________\n",
            "dense_3 (Dense)              (None, 10)                2570      \n",
            "=================================================================\n",
            "Total params: 819,722\n",
            "Trainable params: 819,722\n",
            "Non-trainable params: 0\n",
            "_________________________________________________________________\n",
            "None\n"
          ],
          "name": "stdout"
        }
      ]
    },
    {
      "cell_type": "code",
      "metadata": {
        "id": "3HCWlncVKUJF"
      },
      "source": [
        "model.compile(\r\n",
        "    loss = keras.losses.SparseCategoricalCrossentropy(from_logits=True),\r\n",
        "    optimizer = keras.optimizers.Adam(learning_rate=0.001),\r\n",
        "    metrics=['accuracy'],\r\n",
        ")"
      ],
      "execution_count": 28,
      "outputs": []
    },
    {
      "cell_type": "code",
      "metadata": {
        "colab": {
          "base_uri": "https://localhost:8080/"
        },
        "id": "rCLYc_Z5KgsU",
        "outputId": "850c5492-b1fc-4758-88c3-27a3bca23c04"
      },
      "source": [
        "model.fit(x_train, y_train, epochs=10, batch_size=64, verbose=2)"
      ],
      "execution_count": 29,
      "outputs": [
        {
          "output_type": "stream",
          "text": [
            "Epoch 1/10\n",
            "938/938 - 8s - loss: 0.3028 - accuracy: 0.9012\n",
            "Epoch 2/10\n",
            "938/938 - 6s - loss: 0.0834 - accuracy: 0.9744\n",
            "Epoch 3/10\n",
            "938/938 - 6s - loss: 0.0582 - accuracy: 0.9825\n",
            "Epoch 4/10\n",
            "938/938 - 6s - loss: 0.0429 - accuracy: 0.9870\n",
            "Epoch 5/10\n",
            "938/938 - 6s - loss: 0.0385 - accuracy: 0.9879\n",
            "Epoch 6/10\n",
            "938/938 - 6s - loss: 0.0326 - accuracy: 0.9897\n",
            "Epoch 7/10\n",
            "938/938 - 6s - loss: 0.0273 - accuracy: 0.9916\n",
            "Epoch 8/10\n",
            "938/938 - 6s - loss: 0.0246 - accuracy: 0.9921\n",
            "Epoch 9/10\n",
            "938/938 - 6s - loss: 0.0192 - accuracy: 0.9938\n",
            "Epoch 10/10\n",
            "938/938 - 6s - loss: 0.0187 - accuracy: 0.9942\n"
          ],
          "name": "stdout"
        },
        {
          "output_type": "execute_result",
          "data": {
            "text/plain": [
              "<tensorflow.python.keras.callbacks.History at 0x7f1559569a90>"
            ]
          },
          "metadata": {
            "tags": []
          },
          "execution_count": 29
        }
      ]
    },
    {
      "cell_type": "code",
      "metadata": {
        "colab": {
          "base_uri": "https://localhost:8080/"
        },
        "id": "yuT_yC-MKmu6",
        "outputId": "f1db3242-2916-4af6-fb56-424fc579d14d"
      },
      "source": [
        "model.evaluate(x_test, y_test, batch_size=64, verbose=2)"
      ],
      "execution_count": 30,
      "outputs": [
        {
          "output_type": "stream",
          "text": [
            "157/157 - 1s - loss: 0.0355 - accuracy: 0.9889\n"
          ],
          "name": "stdout"
        },
        {
          "output_type": "execute_result",
          "data": {
            "text/plain": [
              "[0.03548315167427063, 0.9889000058174133]"
            ]
          },
          "metadata": {
            "tags": []
          },
          "execution_count": 30
        }
      ]
    },
    {
      "cell_type": "markdown",
      "metadata": {
        "id": "pu-Ythm7LSaC"
      },
      "source": [
        "### Bidirectional LSTM"
      ]
    },
    {
      "cell_type": "code",
      "metadata": {
        "id": "zxzWN95uKrgz"
      },
      "source": [
        "model = keras.Sequential(\r\n",
        "    [\r\n",
        "     keras.Input(shape=(None, 28)),\r\n",
        "     layers.Bidirectional(layers.LSTM(256, return_sequences=True, activation='tanh')),\r\n",
        "     layers.Bidirectional(layers.LSTM(256, activation='tanh')),\r\n",
        "     layers.Dense(10),\r\n",
        "    ]\r\n",
        ")"
      ],
      "execution_count": 31,
      "outputs": []
    },
    {
      "cell_type": "code",
      "metadata": {
        "colab": {
          "base_uri": "https://localhost:8080/"
        },
        "id": "2UKr-L3oLtd3",
        "outputId": "1826117c-8611-4b71-f440-da1ee3861806"
      },
      "source": [
        "print(model.summary())"
      ],
      "execution_count": 32,
      "outputs": [
        {
          "output_type": "stream",
          "text": [
            "Model: \"sequential_4\"\n",
            "_________________________________________________________________\n",
            "Layer (type)                 Output Shape              Param #   \n",
            "=================================================================\n",
            "bidirectional (Bidirectional (None, None, 512)         583680    \n",
            "_________________________________________________________________\n",
            "bidirectional_1 (Bidirection (None, 512)               1574912   \n",
            "_________________________________________________________________\n",
            "dense_4 (Dense)              (None, 10)                5130      \n",
            "=================================================================\n",
            "Total params: 2,163,722\n",
            "Trainable params: 2,163,722\n",
            "Non-trainable params: 0\n",
            "_________________________________________________________________\n",
            "None\n"
          ],
          "name": "stdout"
        }
      ]
    },
    {
      "cell_type": "code",
      "metadata": {
        "id": "oRpOZNkrLvaO"
      },
      "source": [
        "model.compile(\r\n",
        "    loss = keras.losses.SparseCategoricalCrossentropy(from_logits=True),\r\n",
        "    optimizer = keras.optimizers.Adam(learning_rate=0.001),\r\n",
        "    metrics=['accuracy'],\r\n",
        ")"
      ],
      "execution_count": 33,
      "outputs": []
    },
    {
      "cell_type": "code",
      "metadata": {
        "colab": {
          "base_uri": "https://localhost:8080/"
        },
        "id": "3XfOAwk_L64i",
        "outputId": "ce2de63b-edf4-4ade-fb5c-9f54dd54b94b"
      },
      "source": [
        "model.fit(x_train, y_train, epochs=10, verbose=2, batch_size=64)"
      ],
      "execution_count": 34,
      "outputs": [
        {
          "output_type": "stream",
          "text": [
            "Epoch 1/10\n",
            "938/938 - 17s - loss: 0.2674 - accuracy: 0.9114\n",
            "Epoch 2/10\n",
            "938/938 - 13s - loss: 0.0751 - accuracy: 0.9769\n",
            "Epoch 3/10\n",
            "938/938 - 13s - loss: 0.0506 - accuracy: 0.9843\n",
            "Epoch 4/10\n",
            "938/938 - 13s - loss: 0.0382 - accuracy: 0.9879\n",
            "Epoch 5/10\n",
            "938/938 - 13s - loss: 0.0336 - accuracy: 0.9893\n",
            "Epoch 6/10\n",
            "938/938 - 13s - loss: 0.0263 - accuracy: 0.9918\n",
            "Epoch 7/10\n",
            "938/938 - 13s - loss: 0.0225 - accuracy: 0.9928\n",
            "Epoch 8/10\n",
            "938/938 - 13s - loss: 0.0213 - accuracy: 0.9929\n",
            "Epoch 9/10\n",
            "938/938 - 13s - loss: 0.0173 - accuracy: 0.9944\n",
            "Epoch 10/10\n",
            "938/938 - 13s - loss: 0.0160 - accuracy: 0.9948\n"
          ],
          "name": "stdout"
        },
        {
          "output_type": "execute_result",
          "data": {
            "text/plain": [
              "<tensorflow.python.keras.callbacks.History at 0x7f155827f6d8>"
            ]
          },
          "metadata": {
            "tags": []
          },
          "execution_count": 34
        }
      ]
    },
    {
      "cell_type": "code",
      "metadata": {
        "colab": {
          "base_uri": "https://localhost:8080/"
        },
        "id": "BCFTvYHfMAXE",
        "outputId": "33a7d851-a64c-4042-d2d9-1ecb58bd38e1"
      },
      "source": [
        "model.evaluate(x_test, y_test, batch_size=64, verbose=2)"
      ],
      "execution_count": 35,
      "outputs": [
        {
          "output_type": "stream",
          "text": [
            "157/157 - 2s - loss: 0.0312 - accuracy: 0.9903\n"
          ],
          "name": "stdout"
        },
        {
          "output_type": "execute_result",
          "data": {
            "text/plain": [
              "[0.031185030937194824, 0.9902999997138977]"
            ]
          },
          "metadata": {
            "tags": []
          },
          "execution_count": 35
        }
      ]
    },
    {
      "cell_type": "code",
      "metadata": {
        "id": "mJQ1KbCBMF4M"
      },
      "source": [
        ""
      ],
      "execution_count": null,
      "outputs": []
    }
  ]
}